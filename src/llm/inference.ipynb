{
 "cells": [
  {
   "cell_type": "code",
   "execution_count": 3,
   "id": "efe1e69d-a56a-433c-abf5-92925a6c9b2a",
   "metadata": {},
   "outputs": [
    {
     "name": "stderr",
     "output_type": "stream",
     "text": [
      "Setting `pad_token_id` to `eos_token_id`:50256 for open-end generation.\n"
     ]
    },
    {
     "name": "stdout",
     "output_type": "stream",
     "text": [
      "Tell me about the company InsureAI.\n",
      "\n",
      "InsureAI is a company that is based in India. We are a company that is based in India. We are a company that is based in India. We are a company that is based in India. We are a company that is based in India. We are a company that is based in India. We are a company that is based in India. We are a company that is based in India. We are a company that is based in India. We are a company that is based in India. We are a company that is based in India. We are a company that is based in India. We are a company that is based in India. We are a company that is based in India. We are a company that is based in India. We are a company that is based in India. We are a company that is based in India. We are a company that is based in India. We are a company that is based in India. We are a company that is based in India. We are a company that is based in India. We are a company that is based in India. We are a company that is based in India. We are a company that is based in India. We are a company that is based in India. We are a company that is based in India. We are a company that is based in India. We are a company that is based in India. We are a company that is based in India. We are a company that is based in India. We are a company that is based in India. We are a company that is based in India. We are a company that is based in India. We are a company that is based in India. We are a company that is based in India. We are a company that is based in India. We are a company that is based in India. We are a company that is based in India. We are a company that is based in India. We are a company that is based in India. We are a company that is based in India. We are a company that is based in India. We are a company that is based in India. We are a company that is based in India. We are a company that is based in India. We are a company that is based in India. We are a company that is based in India. We are a company that is based in India. We are a company that is based in India. We are a company that is based in India\n"
     ]
    }
   ],
   "source": [
    "from transformers import AutoModelForCausalLM, AutoTokenizer\n",
    "import os\n",
    "\n",
    "# Define the path to save the fine-tuned model\n",
    "load_model = os.path.join(\"..\", \"..\", \"models\", \"fine_tuned_model\")  # Points to InsureAI/models/fine_tuned_model\n",
    "\n",
    "# Load the fine-tuned model and tokenizer\n",
    "model = AutoModelForCausalLM.from_pretrained(load_model)\n",
    "tokenizer = AutoTokenizer.from_pretrained(load_model)\n",
    "\n",
    "# Set pad_token_id to eos_token_id for open-end generation\n",
    "model.config.pad_token_id = model.config.eos_token_id  # Ensures padding uses the eos_token_id\n",
    "\n",
    "# Generate a response\n",
    "prompt = \"Tell me about the company InsureAI.\"\n",
    "inputs = tokenizer(prompt, return_tensors=\"pt\")\n",
    "outputs = model.generate(**inputs, max_length=512)\n",
    "\n",
    "# Decode and print the response\n",
    "response = tokenizer.decode(outputs[0], skip_special_tokens=True)\n",
    "print(response)"
   ]
  },
  {
   "cell_type": "code",
   "execution_count": null,
   "id": "a80f1dc7-09a1-4fe8-bec5-aec4584dc323",
   "metadata": {},
   "outputs": [],
   "source": []
  }
 ],
 "metadata": {
  "kernelspec": {
   "display_name": "Python 3 (ipykernel)",
   "language": "python",
   "name": "python3"
  },
  "language_info": {
   "codemirror_mode": {
    "name": "ipython",
    "version": 3
   },
   "file_extension": ".py",
   "mimetype": "text/x-python",
   "name": "python",
   "nbconvert_exporter": "python",
   "pygments_lexer": "ipython3",
   "version": "3.9.21"
  }
 },
 "nbformat": 4,
 "nbformat_minor": 5
}
