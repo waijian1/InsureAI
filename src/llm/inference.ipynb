{
 "cells": [
  {
   "cell_type": "code",
   "execution_count": 1,
   "id": "efe1e69d-a56a-433c-abf5-92925a6c9b2a",
   "metadata": {},
   "outputs": [
    {
     "name": "stderr",
     "output_type": "stream",
     "text": [
      "/home/waijianlim/miniconda3/envs/DeepSeek/lib/python3.10/site-packages/tqdm/auto.py:21: TqdmWarning: IProgress not found. Please update jupyter and ipywidgets. See https://ipywidgets.readthedocs.io/en/stable/user_install.html\n",
      "  from .autonotebook import tqdm as notebook_tqdm\n",
      "Unused kwargs: ['_load_in_4bit', '_load_in_8bit', 'quant_method']. These kwargs are not used in <class 'transformers.utils.quantization_config.BitsAndBytesConfig'>.\n",
      "`low_cpu_mem_usage` was None, now default to True since model is quantized.\n"
     ]
    }
   ],
   "source": [
    "from transformers import AutoModelForCausalLM, AutoTokenizer\n",
    "import os\n",
    "\n",
    "# Define the path to save the fine-tuned model\n",
    "# load_model = os.path.join(\"..\", \"..\", \"models\", \"fine_tuned_model\")  # Points to InsureAI/models/fine_tuned_model\n",
    "load_model = os.path.join(\"..\", \"..\", \"src\", \"llm\", \"finetuned_deepseek_r1\") \n",
    "\n",
    "# Load the fine-tuned model and tokenizer\n",
    "model = AutoModelForCausalLM.from_pretrained(load_model)\n",
    "tokenizer = AutoTokenizer.from_pretrained(load_model)"
   ]
  },
  {
   "cell_type": "code",
   "execution_count": 2,
   "id": "eb14234a-c435-49c5-a823-769b61e8d413",
   "metadata": {},
   "outputs": [],
   "source": [
    "import torch\n",
    "\n",
    "def generate_response(prompt, max_length=100):\n",
    "    # Tokenize input\n",
    "    inputs = tokenizer(prompt, return_tensors=\"pt\").to(model.device)\n",
    "\n",
    "    # Generate response\n",
    "    with torch.no_grad():\n",
    "        output_ids = model.generate(\n",
    "            **inputs,\n",
    "            max_length=max_length,\n",
    "            pad_token_id=tokenizer.eos_token_id,\n",
    "            temperature=0.7,\n",
    "            top_p=0.9,\n",
    "            do_sample=True\n",
    "        )\n",
    "\n",
    "    # Decode the output\n",
    "    response = tokenizer.decode(output_ids[0], skip_special_tokens=True)\n",
    "    \n",
    "    return response"
   ]
  },
  {
   "cell_type": "code",
   "execution_count": 5,
   "id": "30d640b6-14d7-492a-97e1-928280963854",
   "metadata": {},
   "outputs": [
    {
     "name": "stdout",
     "output_type": "stream",
     "text": [
      "Below is an instruction that describes a task. Write a response that appropriately completes the request.\n",
      "\n",
      "### Prompt:\n",
      "What is equal to 1+1?\n",
      "### Response:\n",
      "The sum of two ones is two, so 1+1 equals two.\n",
      "\n",
      "Alright, I'm trying to figure out how to respond to this instruction. The user provided a prompt asking \"What is equal to 1+1?\" and the response they wrote is: \"The sum of two ones is two, so 1\n"
     ]
    }
   ],
   "source": [
    "prompt = \"What is equal to 1+1?\"\n",
    "response = generate_response(prompt)\n",
    "print(response)\n"
   ]
  },
  {
   "cell_type": "code",
   "execution_count": 4,
   "id": "47d2e612-a661-4f15-b551-56b491e9ec64",
   "metadata": {},
   "outputs": [
    {
     "name": "stdout",
     "output_type": "stream",
     "text": [
      "Below is an instruction that describes a task. Write a response that appropriately completes the request.\n",
      "\n",
      "### Prompt:\n",
      "Describe the insurance product Death A offered by InsureAI\n",
      "### Response:\n",
      "[Your Answer]\n",
      "\n",
      "[Options]\n",
      "A) The insurance product Death A is a traditional insurance policy with a fixed term and no coverage for accidental damage.\n",
      "B) The insurance product Death A is a traditional insurance policy with a fixed term and no coverage for accidental damage.\n",
      "C) The insurance product Death A is a traditional\n"
     ]
    }
   ],
   "source": [
    "prompt = \"Describe the insurance product Death A offered by InsureAI\"\n",
    "response = generate_response(prompt)\n",
    "print(response)\n"
   ]
  },
  {
   "cell_type": "markdown",
   "id": "cb8da94b-abfa-449f-bc24-751b7c01639a",
   "metadata": {},
   "source": [
    "Inference from original model"
   ]
  },
  {
   "cell_type": "code",
   "execution_count": 6,
   "id": "6032ca60-c7d2-4487-90be-c7567c2b9c92",
   "metadata": {},
   "outputs": [
    {
     "name": "stderr",
     "output_type": "stream",
     "text": [
      "Unused kwargs: ['_load_in_4bit', '_load_in_8bit', 'quant_method']. These kwargs are not used in <class 'transformers.utils.quantization_config.BitsAndBytesConfig'>.\n",
      "`low_cpu_mem_usage` was None, now default to True since model is quantized.\n"
     ]
    }
   ],
   "source": [
    "# Load the original model and tokenizer\n",
    "model_name = \"unsloth/DeepSeek-R1-Distill-Qwen-1.5B-bnb-4bit\"\n",
    "\n",
    "tokenizer = AutoTokenizer.from_pretrained(model_name)\n",
    "model = AutoModelForCausalLM.from_pretrained(model_name)\n"
   ]
  },
  {
   "cell_type": "code",
   "execution_count": 7,
   "id": "3d162052-28e0-4d7f-8441-14528cc31f17",
   "metadata": {},
   "outputs": [],
   "source": [
    "import torch\n",
    "\n",
    "def generate_response_original(prompt, model, tokenizer, max_length=100):\n",
    "    # Format the prompt\n",
    "    formatted_prompt = f\"\"\"Below is an instruction that describes a task. Write a response that appropriately completes the request.\n",
    "\n",
    "### Prompt:\n",
    "{prompt}\n",
    "### Response:\n",
    "\"\"\"\n",
    "\n",
    "    # Tokenize the input\n",
    "    inputs = tokenizer(formatted_prompt, return_tensors=\"pt\").to(model.device)\n",
    "\n",
    "    # Generate response using the original model\n",
    "    with torch.no_grad():\n",
    "        output_ids = model.generate(**inputs, max_length=max_length, pad_token_id=tokenizer.eos_token_id)\n",
    "\n",
    "    # Decode and return the output\n",
    "    response = tokenizer.decode(output_ids[0], skip_special_tokens=True)\n",
    "    \n",
    "    return response\n"
   ]
  },
  {
   "cell_type": "code",
   "execution_count": 8,
   "id": "e79d1a39-202c-4a5c-a4c1-f2d2edcbab1b",
   "metadata": {},
   "outputs": [
    {
     "name": "stdout",
     "output_type": "stream",
     "text": [
      "Response from Original Model: Below is an instruction that describes a task. Write a response that appropriately completes the request.\n",
      "\n",
      "### Prompt:\n",
      "What is equal to 1+1?\n",
      "### Response:\n",
      "The result of 1+1 is 2.\n",
      "\n",
      "Alright, so the user is asking what is equal to 1+1. I need to figure out the answer. 1 plus 1 is definitely 2. I can explain that to make sure it's clear. So, I'll write that 1 plus \n"
     ]
    }
   ],
   "source": [
    "prompt = \"What is equal to 1+1?\"\n",
    "\n",
    "response_original = generate_response_original(prompt, model, tokenizer)\n",
    "print(\"Response from Original Model:\", response_original)\n"
   ]
  }
 ],
 "metadata": {
  "kernelspec": {
   "display_name": "Python 3 (ipykernel)",
   "language": "python",
   "name": "python3"
  },
  "language_info": {
   "codemirror_mode": {
    "name": "ipython",
    "version": 3
   },
   "file_extension": ".py",
   "mimetype": "text/x-python",
   "name": "python",
   "nbconvert_exporter": "python",
   "pygments_lexer": "ipython3",
   "version": "3.10.16"
  }
 },
 "nbformat": 4,
 "nbformat_minor": 5
}
