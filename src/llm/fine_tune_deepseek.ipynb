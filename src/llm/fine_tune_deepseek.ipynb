{
 "cells": [
  {
   "cell_type": "code",
   "execution_count": 1,
   "id": "32a85009-74e3-4a35-b7ed-737db17269a5",
   "metadata": {},
   "outputs": [],
   "source": [
    "from transformers import AutoModelForCausalLM, AutoTokenizer, Trainer, TrainingArguments\n",
    "from datasets import load_dataset\n",
    "import os\n",
    "\n",
    "home_dir = os.path.expanduser('~/InsureAI')\n",
    "# Define the path to save the fine-tuned model\n",
    "model_dir = os.path.join(home_dir, \"models\", \"fine_tuned_model_enhanced\")  # Points to InsureAI/models/fine_tuned_model"
   ]
  },
  {
   "cell_type": "code",
   "execution_count": 2,
   "id": "0f1dae57-da3b-47a2-a3b1-136cb82e6751",
   "metadata": {},
   "outputs": [
    {
     "name": "stdout",
     "output_type": "stream",
     "text": [
      "🦥 Unsloth: Will patch your computer to enable 2x faster free finetuning.\n",
      "🦥 Unsloth Zoo will now patch everything to make training faster!\n",
      "==((====))==  Unsloth 2025.1.8: Fast Qwen2 patching. Transformers: 4.48.2.\n",
      "   \\\\   /|    GPU: NVIDIA GeForce RTX 2060. Max memory: 6.0 GB. Platform: Linux.\n",
      "O^O/ \\_/ \\    Torch: 2.6.0+cu118. CUDA: 7.5. CUDA Toolkit: 11.8. Triton: 3.2.0\n",
      "\\        /    Bfloat16 = FALSE. FA [Xformers = 0.0.29.post2. FA2 = False]\n",
      " \"-____-\"     Free Apache license: http://github.com/unslothai/unsloth\n",
      "Unsloth: Fast downloading is enabled - ignore downloading bars which are red colored!\n"
     ]
    }
   ],
   "source": [
    "from unsloth import FastLanguageModel\n",
    "\n",
    "# model_name = \"unsloth/DeepSeek-R1-Distill-Llama-8B-unsloth-bnb-4bit\"\n",
    "model_name = \"unsloth/DeepSeek-R1-Distill-Qwen-1.5B-bnb-4bit\"\n",
    "max_seq_length = 2048\n",
    "model, tokenizer = FastLanguageModel.from_pretrained(\n",
    "    model_name=model_name,\n",
    "    max_seq_length=max_seq_length,\n",
    "    load_in_4bit=True,\n",
    "    # device_map=\"auto\",\n",
    ")"
   ]
  },
  {
   "cell_type": "markdown",
   "id": "84d61d7b-db18-4817-b155-a99a03d33dff",
   "metadata": {},
   "source": [
    "Prepare Company Data Informations for fine-tuning"
   ]
  },
  {
   "cell_type": "code",
   "execution_count": 3,
   "id": "aabf4b2b-5c60-43a4-bf1f-bd373f0852d2",
   "metadata": {},
   "outputs": [
    {
     "name": "stdout",
     "output_type": "stream",
     "text": [
      "Products already exist. No new records inserted.\n",
      "(1, 'Death A', 'Death', '{\"coverage\": \"term\", \"premium\": 100, \"SA\":10000}', 'InsureAI')\n",
      "(2, 'Death B', 'Death', '{\"coverage\": \"endowment\", \"premium\": 200, \"SA\":20000}', 'InsureAI')\n",
      "(3, 'Death C', 'Death', '{\"coverage\": \"full\", \"premium\": 300, \"SA\":30000}', 'InsureAI')\n",
      "(4, 'TPD A', 'TPD', '{\"coverage\": \"term\", \"premium\": 100, \"SA\":10000}', 'InsureAI')\n",
      "(5, 'TPD B', 'TPD', '{\"coverage\": \"endowment\", \"premium\": 200, \"SA\":20000}', 'InsureAI')\n",
      "(6, 'TPD C', 'TPD', '{\"coverage\": \"full\", \"premium\": 300, \"SA\":30000}', 'InsureAI')\n",
      "(7, 'Critical Illness A', 'Critical Illness', '{\"coverage\": \"term\", \"premium\": 100, \"SA\":10000}', 'InsureAI')\n",
      "(8, 'Critical Illness B', 'Critical Illness', '{\"coverage\": \"endowment\", \"premium\": 200, \"SA\":20000}', 'InsureAI')\n",
      "(9, 'Critical Illness C', 'Critical Illness', '{\"coverage\": \"full\", \"premium\": 300, \"SA\":30000}', 'InsureAI')\n",
      "(10, 'Accidental A', 'Accidental', '{\"coverage\": \"term\", \"premium\": 100, \"SA\":10000}', 'InsureAI')\n",
      "(11, 'Accidental B', 'Accidental', '{\"coverage\": \"endowment\", \"premium\": 200, \"SA\":20000}', 'InsureAI')\n",
      "(12, 'Accidental C', 'Accidental', '{\"coverage\": \"full\", \"premium\": 300, \"SA\":30000}', 'InsureAI')\n",
      "(13, 'Hospitalisation A', 'Hospitalisation', '{\"coverage\": \"term\", \"premium\": 100, \"SA\":10000}', 'InsureAI')\n",
      "(14, 'Hospitalisation B', 'Hospitalisation', '{\"coverage\": \"endowment\", \"premium\": 200, \"SA\":20000}', 'InsureAI')\n",
      "(15, 'Hospitalisation C', 'Hospitalisation', '{\"coverage\": \"full\", \"premium\": 300, \"SA\":30000}', 'InsureAI')\n",
      "setup.py executed successfully.\n"
     ]
    }
   ],
   "source": [
    "# Initialize insurance.db data\n",
    "import subprocess\n",
    "\n",
    "# Define the path to setup.py relative to the notebook\n",
    "setup_script_path = os.path.abspath(\"../sql/setup.py\")\n",
    "\n",
    "# Run the setup.py script\n",
    "try:\n",
    "    subprocess.run([\"python\", setup_script_path], check=True)\n",
    "    print(\"setup.py executed successfully.\")\n",
    "except subprocess.CalledProcessError as e:\n",
    "    print(f\"An error occurred while executing setup.py: {e}\")\n"
   ]
  },
  {
   "cell_type": "code",
   "execution_count": 4,
   "id": "26d2038b-3da3-48f8-a0b0-f0e84573c805",
   "metadata": {},
   "outputs": [
    {
     "name": "stdout",
     "output_type": "stream",
     "text": [
      "Training samples: 2520\n",
      "Evaluation samples: 631\n",
      "Files saved successfully!\n"
     ]
    }
   ],
   "source": [
    "import json\n",
    "import sqlite3\n",
    "import os\n",
    "import random\n",
    "import numpy as np\n",
    "from sklearn.model_selection import train_test_split\n",
    "\n",
    "# Configuration\n",
    "NUM_VARIATIONS_PER_ITEM = 200  # 219 + 94 = 313 (70% + 30%)\n",
    "MAX_RETRIES = 5 # For generating unique variations\n",
    "TRAIN_TEST_SPLIT = 0.2 # More training data\n",
    "SEED = 42\n",
    "random.seed(SEED)\n",
    "np.random.seed(SEED)\n",
    "\n",
    "# Initialize database connection (replace with your actual path)\n",
    "home_dir = os.path.expanduser(\"~/InsureAI\")\n",
    "conn = sqlite3.connect(os.path.join(home_dir, 'insurance.db'))\n",
    "cursor = conn.cursor()\n",
    "\n",
    "# Fetch products from database\n",
    "cursor.execute(\"SELECT * FROM products\")\n",
    "products = cursor.fetchall()\n",
    "\n",
    "# Base company data\n",
    "company_data = {\n",
    "    \"company_name\": \"InsureAI\",\n",
    "    \"launch_date\": \"1995-05-15\",\n",
    "    \"description\": \"InsureAI is a leading provider of life, health, and general insurance products in Singapore. We are committed to helping our customers achieve financial security and peace of mind.\",\n",
    "    \"company_type\": \"Life and General Insurance\",\n",
    "    \"headquarters\": \"Singapore\",\n",
    "    \"website\": \"https://www.insureai.sg\",\n",
    "    \"contact_email\": \"info@insureai.sg\",\n",
    "    \"contact_phone\": \"+65 8888 1314\",\n",
    "    \"products\": []\n",
    "}\n",
    "\n",
    "# Process products\n",
    "for product in products:\n",
    "    product_id, name, types, features, company = product\n",
    "    features_dict = json.loads(features)\n",
    "    \n",
    "    product_details = {\n",
    "        \"id\": product_id,\n",
    "        \"name\": name,\n",
    "        \"types\": types,\n",
    "        \"features\": features_dict,\n",
    "        \"base_description\": f\"{name} is a type of {types} insurance. It is a/an {features_dict.get('coverage')} insurance product offered by {company}. Key features include: {', '.join([f'{k}: {v}' for k, v in features_dict.items()])}.\"\n",
    "    }\n",
    "    company_data[\"products\"].append(product_details)\n",
    "\n",
    "# Variation generation functions\n",
    "def generate_company_variations(company, num_variations):\n",
    "    variations = []\n",
    "    generated = set()\n",
    "    \n",
    "    # Prompt templates\n",
    "    prompt_templates = [\n",
    "        \"Tell me about {name}\",\n",
    "        \"Describe {name}'s insurance services\",\n",
    "        \"What makes {name} different from other insurers?\",\n",
    "        \"How long has {name} been operating?\",\n",
    "        \"What types of insurance does {name} offer?\",\n",
    "        \"Explain {name}'s main advantages\",\n",
    "        \"What contact options does {name} provide?\",\n",
    "        \"Where is {name} headquartered?\",\n",
    "        \"Describe {name}'s history and mission\",\n",
    "        \"What awards has {name} won?\",\n",
    "        \"Who should consider {name} insurance?\",\n",
    "        \"What's special about {name}'s policies?\"\n",
    "    ]\n",
    "    \n",
    "    # Completion components\n",
    "    components = {\n",
    "        'type': [\n",
    "            f\"{company['company_name']} operates as a {company['company_type']} provider\",\n",
    "            f\"As a leading {company['company_type']} company, {company['company_name']}\",\n",
    "            f\"{company['company_name']} specializes in {company['company_type'].lower()}\"\n",
    "        ],\n",
    "        'hq': [\n",
    "            f\"Headquartered in {company['headquarters']}\",\n",
    "            f\"Main offices located in {company['headquarters']}\",\n",
    "            f\"Based in the heart of {company['headquarters']}\"\n",
    "        ],\n",
    "        'launch': [\n",
    "            f\"Established in {company['launch_date'].split('-')[0]}\",\n",
    "            f\"Founded in {company['launch_date']}\",\n",
    "            f\"Operating since {company['launch_date']}\"\n",
    "        ],\n",
    "        'desc': [\n",
    "            company['description'],\n",
    "            f\"{company['description'].split('.')[0]}. Offers personalized solutions through advanced AI-driven risk assessment.\",\n",
    "            company['description'].replace(\"leading\", \"top-rated\").replace(\"helping\", \"empowering\")\n",
    "        ],\n",
    "        'contact': [\n",
    "            f\"Contact options: Phone {company['contact_phone']}, Email {company['contact_email']}, or visit {company['website']}\",\n",
    "            f\"Available at {random.choice(['www.insureai.sg', 'their website'])} or call {company['contact_phone']}\",\n",
    "            f\"Reach them via {random.choice(['email', 'phone'])}: {company['contact_email']} | {company['contact_phone']}\"\n",
    "        ],\n",
    "        'awards': [\n",
    "            \"Recipient of the 2023 Singapore Insurance Innovation Award\",\n",
    "            \"Ranked #1 in Customer Satisfaction by SG Insurance Review\",\n",
    "            \"Winner of Best Digital Insurance Platform 2022\"\n",
    "        ]\n",
    "    }\n",
    "\n",
    "    attempt = 0\n",
    "    while len(variations) < num_variations and attempt < MAX_RETRIES:\n",
    "        # Generate prompt\n",
    "        prompt = random.choice(prompt_templates).format(name=company['company_name'])\n",
    "        \n",
    "        # Build completion with logical flow\n",
    "        completion_structure = [\n",
    "            ('type', 1), \n",
    "            ('launch', 0.8), \n",
    "            ('hq', 0.9),\n",
    "            ('desc', 1),\n",
    "            ('awards', 0.4),\n",
    "            ('contact', 1)\n",
    "        ]\n",
    "        \n",
    "        completion_parts = []\n",
    "        for component, prob in completion_structure:\n",
    "            if random.random() < prob:\n",
    "                completion_parts.append(random.choice(components[component]))\n",
    "        \n",
    "        # Ensure minimum components\n",
    "        if len(completion_parts) < 4:\n",
    "            continue\n",
    "            \n",
    "        completion = \". \".join(completion_parts) + \".\"\n",
    "        \n",
    "        # Check uniqueness\n",
    "        variation_hash = hash((prompt, completion))\n",
    "        if variation_hash not in generated:\n",
    "            variations.append((prompt, completion))\n",
    "            generated.add(variation_hash)\n",
    "        else:\n",
    "            attempt += 1\n",
    "    \n",
    "    return variations\n",
    "\n",
    "def generate_product_variations(product, company_name, num_variations):\n",
    "    variations = []\n",
    "    generated = set()\n",
    "    \n",
    "    # Prompt templates\n",
    "    prompt_templates = [\n",
    "        \"Describe {product} from {company}\",\n",
    "        \"What does {product} by {company} offer?\",\n",
    "        \"Explain the {product} insurance policy\",\n",
    "        \"What are the features of {product}?\",\n",
    "        \"Tell me about {company}'s {product}\",\n",
    "        \"What coverage does {product} provide?\",\n",
    "        \"Details about the {product} plan\",\n",
    "        \"What makes {product} by {company} special?\",\n",
    "        \"Information about {product} insurance\",\n",
    "        \"Why choose {product} from {company}?\"\n",
    "    ]\n",
    "    \n",
    "    # Completion components\n",
    "    components = {\n",
    "        'type': [\n",
    "            f\"{product['name']} is a {product['types']} insurance product\",\n",
    "            f\"This {product['types']} policy: {product['name']}\",\n",
    "            f\"A {product['types']} solution: {product['name']}\"\n",
    "        ],\n",
    "        'coverage': [\n",
    "            f\"Coverage type: {product['features']['coverage']}\",\n",
    "            f\"{product['features']['coverage'].title()} coverage\",\n",
    "            f\"Provides {product['features']['coverage']} protection\"\n",
    "        ],\n",
    "        'premium': [\n",
    "            f\"Premium: ${product['features']['premium']}\",\n",
    "            f\"Cost: {product['features']['premium']} SGD\",\n",
    "            f\"Priced at {product['features']['premium']} SGD\"\n",
    "        ],\n",
    "        'sa': [\n",
    "            f\"Sum assured: {product['features']['SA']} SGD\",\n",
    "            f\"Coverage amount: {product['features']['SA']}\",\n",
    "            f\"SA: {product['features']['SA']}\"\n",
    "        ],\n",
    "        'desc': [\n",
    "            f\"Offered by {company_name}\",\n",
    "            \"24/7 claims support\",\n",
    "            \"No-claim bonus rewards\",\n",
    "            \"Free annual health checkups\",\n",
    "            \"Worldwide coverage\",\n",
    "            \"Instant policy issuance\"\n",
    "        ]\n",
    "    }\n",
    "\n",
    "    attempt = 0\n",
    "    while len(variations) < num_variations and attempt < MAX_RETRIES:\n",
    "        prompt = random.choice(prompt_templates).format(\n",
    "            product=product['name'], \n",
    "            company=company_name\n",
    "        )\n",
    "        \n",
    "        # Structured completion with natural flow\n",
    "        completion_structure = [\n",
    "            ('type', 1),\n",
    "            ('coverage', 1),\n",
    "            ('premium', 0.9),\n",
    "            ('sa', 0.8),\n",
    "            ('desc', 0.7)\n",
    "        ]\n",
    "        \n",
    "        completion_parts = []\n",
    "        for component, prob in completion_structure:\n",
    "            if random.random() < prob:\n",
    "                completion_parts.append(random.choice(components[component]))\n",
    "        \n",
    "        if len(completion_parts) < 4:\n",
    "            continue\n",
    "            \n",
    "        completion = \". \".join(completion_parts) + \".\"\n",
    "        \n",
    "        variation_hash = hash((prompt, completion))\n",
    "        if variation_hash not in generated:\n",
    "            variations.append((prompt, completion))\n",
    "            generated.add(variation_hash)\n",
    "        else:\n",
    "            attempt += 1\n",
    "    \n",
    "    return variations\n",
    "\n",
    "# Generate and split data\n",
    "all_train = []\n",
    "all_eval = []\n",
    "\n",
    "# Company variations\n",
    "company_variations = generate_company_variations(company_data, NUM_VARIATIONS_PER_ITEM)\n",
    "train_company, eval_company = train_test_split(\n",
    "    company_variations, \n",
    "    test_size=TRAIN_TEST_SPLIT,\n",
    "    random_state=SEED\n",
    ")\n",
    "all_train.extend(train_company)\n",
    "all_eval.extend(eval_company)\n",
    "\n",
    "# Product variations\n",
    "for product in company_data[\"products\"]:\n",
    "    product_variations = generate_product_variations(\n",
    "        product,\n",
    "        company_data[\"company_name\"],\n",
    "        NUM_VARIATIONS_PER_ITEM\n",
    "    )\n",
    "    train_product, eval_product = train_test_split(\n",
    "        product_variations,\n",
    "        test_size=TRAIN_TEST_SPLIT,\n",
    "        random_state=SEED\n",
    "    )\n",
    "    all_train.extend(train_product)\n",
    "    all_eval.extend(eval_product)\n",
    "\n",
    "# Shuffle datasets\n",
    "random.shuffle(all_train)\n",
    "random.shuffle(all_eval)\n",
    "\n",
    "# Add second shuffle\n",
    "random.shuffle(all_train)\n",
    "random.shuffle(all_eval)\n",
    "\n",
    "# Save to JSONL files\n",
    "def save_jsonl(data, filename):\n",
    "    with open(filename, \"w\") as f:\n",
    "        for prompt, completion in data:\n",
    "            f.write(json.dumps({\n",
    "                \"prompt\": \"[INSURANCE_QUERY] \" + prompt + \"\\n\\n###\\n\\n\",\n",
    "                \"completion\": \" \" + completion + \" END\"\n",
    "            }) + \"\\n\")\n",
    "\n",
    "save_jsonl(all_train, \"train_data.jsonl\")\n",
    "save_jsonl(all_eval, \"eval_data.jsonl\")\n",
    "\n",
    "print(f\"Training samples: {len(all_train)}\")\n",
    "print(f\"Evaluation samples: {len(all_eval)}\")\n",
    "print(\"Files saved successfully!\")"
   ]
  },
  {
   "cell_type": "code",
   "execution_count": 5,
   "id": "f2c85226-5c0c-4de5-a7da-8b4b1bc94d1e",
   "metadata": {},
   "outputs": [
    {
     "data": {
      "application/vnd.jupyter.widget-view+json": {
       "model_id": "c3771bc07b7b49d29b5994f336f60a97",
       "version_major": 2,
       "version_minor": 0
      },
      "text/plain": [
       "Generating train split: 0 examples [00:00, ? examples/s]"
      ]
     },
     "metadata": {},
     "output_type": "display_data"
    },
    {
     "data": {
      "application/vnd.jupyter.widget-view+json": {
       "model_id": "56e8040806cb4bfc90235c8bd3e85af3",
       "version_major": 2,
       "version_minor": 0
      },
      "text/plain": [
       "Generating test split: 0 examples [00:00, ? examples/s]"
      ]
     },
     "metadata": {},
     "output_type": "display_data"
    }
   ],
   "source": [
    "# Load the fine-tuning data\n",
    "# dataset = load_dataset(\"json\", data_files=\"fine_tuning_data.jsonl\")\n",
    "dataset = load_dataset(\"json\", data_files={\"train\": \"train_data.jsonl\", \"test\": \"eval_data.jsonl\"})"
   ]
  },
  {
   "cell_type": "code",
   "execution_count": 6,
   "id": "4daef35d-a5e3-4457-9af9-ab5879fbee16",
   "metadata": {},
   "outputs": [
    {
     "data": {
      "application/vnd.jupyter.widget-view+json": {
       "model_id": "ae9054c70e174c6f8526e0fc8b30e344",
       "version_major": 2,
       "version_minor": 0
      },
      "text/plain": [
       "Map:   0%|          | 0/2520 [00:00<?, ? examples/s]"
      ]
     },
     "metadata": {},
     "output_type": "display_data"
    },
    {
     "data": {
      "application/vnd.jupyter.widget-view+json": {
       "model_id": "cd2376d2fd544c80bed850f6946ddeb8",
       "version_major": 2,
       "version_minor": 0
      },
      "text/plain": [
       "Map:   0%|          | 0/631 [00:00<?, ? examples/s]"
      ]
     },
     "metadata": {},
     "output_type": "display_data"
    }
   ],
   "source": [
    "# Tokenize the dataset\n",
    "def preprocess_function(examples):\n",
    "    inputs = tokenizer(examples[\"prompt\"], max_length=max_seq_length, truncation=True, padding=\"max_length\")\n",
    "    outputs = tokenizer(examples[\"completion\"], max_length=max_seq_length, truncation=True, padding=\"max_length\")\n",
    "    inputs[\"labels\"] = outputs[\"input_ids\"]  # Set the response as labels for training\n",
    "    return inputs\n",
    "tokenized_dataset = dataset.map(preprocess_function, batched=True)"
   ]
  },
  {
   "cell_type": "code",
   "execution_count": 7,
   "id": "b0752905-2327-4893-8523-379ff13299e2",
   "metadata": {},
   "outputs": [
    {
     "name": "stderr",
     "output_type": "stream",
     "text": [
      "Unsloth: Dropout = 0 is supported for fast patching. You are using dropout = 0.05.\n",
      "Unsloth will patch all other layers, except LoRA matrices, causing a performance hit.\n",
      "Unsloth 2025.1.8 patched 28 layers with 0 QKV layers, 0 O layers and 0 MLP layers.\n"
     ]
    }
   ],
   "source": [
    "model = FastLanguageModel.get_peft_model(\n",
    "    model,\n",
    "    r=16,  # LoRA rank\n",
    "    target_modules=[\"q_proj\", \"v_proj\"],  # Fine-tune key attention layers\n",
    "    lora_alpha=32,\n",
    "    lora_dropout=0.05,\n",
    "    bias=\"none\",\n",
    "    use_gradient_checkpointing=True,\n",
    ")"
   ]
  },
  {
   "cell_type": "code",
   "execution_count": 8,
   "id": "dce49067-8027-4c5a-9a29-7a00e7b3f00c",
   "metadata": {},
   "outputs": [
    {
     "name": "stderr",
     "output_type": "stream",
     "text": [
      "/home/waijianlim/miniconda3/envs/DeepSeek/lib/python3.10/site-packages/transformers/training_args.py:1575: FutureWarning: `evaluation_strategy` is deprecated and will be removed in version 4.46 of 🤗 Transformers. Use `eval_strategy` instead\n",
      "  warnings.warn(\n"
     ]
    }
   ],
   "source": [
    "training_args = TrainingArguments(\n",
    "    output_dir=\"./results\",  # Where to save model checkpoints\n",
    "    overwrite_output_dir=True,  # Overwrite old checkpoints\n",
    "    per_device_train_batch_size=6,  # Small batch to fit in 6GB VRAM\n",
    "    per_device_eval_batch_size=6,  # Same for evaluation\n",
    "    # gradient_accumulation_steps=4,  # Helps with small batch size\n",
    "    evaluation_strategy=\"epoch\",  # \"epoch\" or \"steps\"\n",
    "    save_strategy=\"epoch\",\n",
    "    load_best_model_at_end=True, #Enable early stopping\n",
    "    # eval_steps=70,  # Frequency of evaluation\n",
    "    # save_steps=500,  # Save model every X steps\n",
    "    # save_total_limit=5,  # Keep only last X checkpoints\n",
    "    logging_dir=\"./logs\",  # Log directory\n",
    "    # logging_steps=100,  # Log every 100 steps\n",
    "    learning_rate=3e-5,  # Suitable for Qwen fine-tuning\n",
    "    num_train_epochs=15,  # Number of epochs\n",
    "    fp16=True,  # Use mixed precision to save VRAM\n",
    "    optim=\"adamw_bnb_8bit\",  # 8-bit optimizer for efficiency\n",
    "    # lr_scheduler_type=\"cosine\",  # Learning rate decay\n",
    "    warmup_steps=500,  # Gradual increase in learning rate\n",
    "    weight_decay=0.01,  # Added regularization\n",
    "    greater_is_better=False,\n",
    "    report_to=\"tensorboard\",\n",
    "    metric_for_best_model=\"eval_loss\",\n",
    ")\n"
   ]
  },
  {
   "cell_type": "code",
   "execution_count": 9,
   "id": "d9a98513-77b3-4011-a9b6-9d1074981d50",
   "metadata": {},
   "outputs": [
    {
     "name": "stderr",
     "output_type": "stream",
     "text": [
      "/tmp/ipykernel_3115/2971601674.py:1: FutureWarning: `tokenizer` is deprecated and will be removed in version 5.0.0 for `Trainer.__init__`. Use `processing_class` instead.\n",
      "  trainer = Trainer(\n"
     ]
    }
   ],
   "source": [
    "trainer = Trainer(\n",
    "    model=model,\n",
    "    args=training_args,\n",
    "    train_dataset=tokenized_dataset[\"train\"],\n",
    "    eval_dataset=tokenized_dataset[\"test\"],\n",
    "    tokenizer=tokenizer,\n",
    ")\n"
   ]
  },
  {
   "cell_type": "code",
   "execution_count": 10,
   "id": "5b5324ab-e5b4-4998-a9b7-f6dc6c114d06",
   "metadata": {},
   "outputs": [],
   "source": [
    "# Evaluate the model before training. Check evaluation loss before training\n",
    "#{'eval_loss': 13.443951606750488, 'eval_model_preparation_time': 0.0022, 'eval_runtime': 291.9052, 'eval_samples_per_second': 1.644, 'eval_steps_per_second': 1.644}\n",
    "#Perplexity: 689658.3484340009\n",
    "# import math\n",
    "\n",
    "# eval_results = trainer.evaluate()\n",
    "# print(eval_results)\n",
    "\n",
    "# perplexity = math.exp(eval_results[\"eval_loss\"])\n",
    "# print(f\"Perplexity: {perplexity}\")"
   ]
  },
  {
   "cell_type": "code",
   "execution_count": 11,
   "id": "8bafcc81-0773-4272-9b64-00d7c72b09e3",
   "metadata": {},
   "outputs": [
    {
     "name": "stderr",
     "output_type": "stream",
     "text": [
      "==((====))==  Unsloth - 2x faster free finetuning | Num GPUs = 1\n",
      "   \\\\   /|    Num examples = 2,520 | Num Epochs = 15\n",
      "O^O/ \\_/ \\    Batch size per device = 6 | Gradient Accumulation steps = 1\n",
      "\\        /    Total batch size = 6 | Total steps = 6,300\n",
      " \"-____-\"     Number of trainable parameters = 2,179,072\n"
     ]
    },
    {
     "data": {
      "text/html": [
       "\n",
       "    <div>\n",
       "      \n",
       "      <progress value='6300' max='6300' style='width:300px; height:20px; vertical-align: middle;'></progress>\n",
       "      [6300/6300 16:52:31, Epoch 15/15]\n",
       "    </div>\n",
       "    <table border=\"1\" class=\"dataframe\">\n",
       "  <thead>\n",
       " <tr style=\"text-align: left;\">\n",
       "      <th>Epoch</th>\n",
       "      <th>Training Loss</th>\n",
       "      <th>Validation Loss</th>\n",
       "    </tr>\n",
       "  </thead>\n",
       "  <tbody>\n",
       "    <tr>\n",
       "      <td>1</td>\n",
       "      <td>No log</td>\n",
       "      <td>13.491053</td>\n",
       "    </tr>\n",
       "    <tr>\n",
       "      <td>2</td>\n",
       "      <td>14.447100</td>\n",
       "      <td>12.711395</td>\n",
       "    </tr>\n",
       "    <tr>\n",
       "      <td>3</td>\n",
       "      <td>11.054100</td>\n",
       "      <td>12.939946</td>\n",
       "    </tr>\n",
       "    <tr>\n",
       "      <td>4</td>\n",
       "      <td>11.463800</td>\n",
       "      <td>13.669069</td>\n",
       "    </tr>\n",
       "    <tr>\n",
       "      <td>5</td>\n",
       "      <td>11.564500</td>\n",
       "      <td>13.864638</td>\n",
       "    </tr>\n",
       "    <tr>\n",
       "      <td>6</td>\n",
       "      <td>11.644100</td>\n",
       "      <td>14.272918</td>\n",
       "    </tr>\n",
       "    <tr>\n",
       "      <td>7</td>\n",
       "      <td>11.644100</td>\n",
       "      <td>14.656846</td>\n",
       "    </tr>\n",
       "    <tr>\n",
       "      <td>8</td>\n",
       "      <td>11.692200</td>\n",
       "      <td>14.619061</td>\n",
       "    </tr>\n",
       "    <tr>\n",
       "      <td>9</td>\n",
       "      <td>11.719100</td>\n",
       "      <td>13.969672</td>\n",
       "    </tr>\n",
       "    <tr>\n",
       "      <td>10</td>\n",
       "      <td>11.767600</td>\n",
       "      <td>13.187274</td>\n",
       "    </tr>\n",
       "    <tr>\n",
       "      <td>11</td>\n",
       "      <td>11.775900</td>\n",
       "      <td>12.946569</td>\n",
       "    </tr>\n",
       "    <tr>\n",
       "      <td>12</td>\n",
       "      <td>11.773100</td>\n",
       "      <td>12.938406</td>\n",
       "    </tr>\n",
       "    <tr>\n",
       "      <td>13</td>\n",
       "      <td>11.773100</td>\n",
       "      <td>12.939447</td>\n",
       "    </tr>\n",
       "    <tr>\n",
       "      <td>14</td>\n",
       "      <td>11.742400</td>\n",
       "      <td>13.018110</td>\n",
       "    </tr>\n",
       "    <tr>\n",
       "      <td>15</td>\n",
       "      <td>11.740100</td>\n",
       "      <td>13.062424</td>\n",
       "    </tr>\n",
       "  </tbody>\n",
       "</table><p>"
      ],
      "text/plain": [
       "<IPython.core.display.HTML object>"
      ]
     },
     "metadata": {},
     "output_type": "display_data"
    },
    {
     "name": "stderr",
     "output_type": "stream",
     "text": [
      "Unsloth: Not an error, but Qwen2ForCausalLM does not accept `num_items_in_batch`.\n",
      "Using gradient accumulation will be very slightly less accurate.\n",
      "Read more on gradient accumulation issues here: https://unsloth.ai/blog/gradient\n"
     ]
    },
    {
     "data": {
      "text/plain": [
       "TrainOutput(global_step=6300, training_loss=11.858937484499007, metrics={'train_runtime': 60764.3263, 'train_samples_per_second': 0.622, 'train_steps_per_second': 0.104, 'total_flos': 7.180464490020864e+17, 'train_loss': 11.858937484499007, 'epoch': 15.0})"
      ]
     },
     "execution_count": 11,
     "metadata": {},
     "output_type": "execute_result"
    }
   ],
   "source": [
    "#TrainOutput(global_step=420, training_loss=13.907184382847378, metrics={'train_runtime': 5618.6296, 'train_samples_per_second': 0.598, 'train_steps_per_second': 0.075, 'total_flos': 6.382635102240768e+16, 'train_loss': 13.907184382847378, 'epoch': 3.0})\n",
    "trainer.train()"
   ]
  },
  {
   "cell_type": "code",
   "execution_count": 12,
   "id": "f838db84-c1b3-47d4-969c-1c875230d711",
   "metadata": {},
   "outputs": [
    {
     "name": "stdout",
     "output_type": "stream",
     "text": [
      "Fine-tuning complete. Model saved to /home/waijianlim/InsureAI/models/fine_tuned_model_enhanced.\n"
     ]
    }
   ],
   "source": [
    "# Save the model and tokenizer\n",
    "model.save_pretrained(model_dir)\n",
    "tokenizer.save_pretrained(model_dir)\n",
    "\n",
    "print(f\"Fine-tuning complete. Model saved to {model_dir}.\")"
   ]
  },
  {
   "cell_type": "code",
   "execution_count": 13,
   "id": "35c42853-5c93-4d5b-b481-a752bfecb518",
   "metadata": {},
   "outputs": [
    {
     "data": {
      "text/html": [
       "\n",
       "    <div>\n",
       "      \n",
       "      <progress value='106' max='106' style='width:300px; height:20px; vertical-align: middle;'></progress>\n",
       "      [106/106 05:26]\n",
       "    </div>\n",
       "    "
      ],
      "text/plain": [
       "<IPython.core.display.HTML object>"
      ]
     },
     "metadata": {},
     "output_type": "display_data"
    },
    {
     "name": "stdout",
     "output_type": "stream",
     "text": [
      "{'eval_loss': 12.711395263671875, 'eval_runtime': 329.1988, 'eval_samples_per_second': 1.917, 'eval_steps_per_second': 0.322, 'epoch': 15.0}\n",
      "Perplexity: 331504.03605822613\n"
     ]
    }
   ],
   "source": [
    "# Evaluate the model - Eval loss : {'eval_loss': 13.454931259155273, 'eval_runtime': 289.4939, 'eval_samples_per_second': 1.658, 'eval_steps_per_second': 1.658, 'epoch': 3.0}\n",
    "# Perplexity: 697272.2800492591\n",
    "import math\n",
    "\n",
    "eval_results = trainer.evaluate()\n",
    "print(eval_results)\n",
    "\n",
    "perplexity = math.exp(eval_results[\"eval_loss\"])\n",
    "print(f\"Perplexity: {perplexity}\")"
   ]
  }
 ],
 "metadata": {
  "kernelspec": {
   "display_name": "Python 3 (ipykernel)",
   "language": "python",
   "name": "python3"
  },
  "language_info": {
   "codemirror_mode": {
    "name": "ipython",
    "version": 3
   },
   "file_extension": ".py",
   "mimetype": "text/x-python",
   "name": "python",
   "nbconvert_exporter": "python",
   "pygments_lexer": "ipython3",
   "version": "3.10.16"
  }
 },
 "nbformat": 4,
 "nbformat_minor": 5
}
