{
 "cells": [
  {
   "cell_type": "code",
   "execution_count": 1,
   "id": "32a85009-74e3-4a35-b7ed-737db17269a5",
   "metadata": {},
   "outputs": [
    {
     "name": "stderr",
     "output_type": "stream",
     "text": [
      "/home/waijianlim/miniconda3/envs/DeepSeek/lib/python3.10/site-packages/tqdm/auto.py:21: TqdmWarning: IProgress not found. Please update jupyter and ipywidgets. See https://ipywidgets.readthedocs.io/en/stable/user_install.html\n",
      "  from .autonotebook import tqdm as notebook_tqdm\n"
     ]
    }
   ],
   "source": [
    "from transformers import AutoModelForCausalLM, AutoTokenizer, Trainer, TrainingArguments\n",
    "from datasets import load_dataset\n",
    "import os\n",
    "\n",
    "home_dir = os.path.expanduser('~/InsureAI')\n",
    "# Define the path to save the fine-tuned model\n",
    "model_dir = os.path.join(home_dir, \"models\", \"fine_tuned_model\")  # Points to InsureAI/models/fine_tuned_model"
   ]
  },
  {
   "cell_type": "code",
   "execution_count": 2,
   "id": "0f1dae57-da3b-47a2-a3b1-136cb82e6751",
   "metadata": {},
   "outputs": [
    {
     "name": "stdout",
     "output_type": "stream",
     "text": [
      "🦥 Unsloth: Will patch your computer to enable 2x faster free finetuning.\n",
      "🦥 Unsloth Zoo will now patch everything to make training faster!\n",
      "==((====))==  Unsloth 2025.1.8: Fast Qwen2 patching. Transformers: 4.48.2.\n",
      "   \\\\   /|    GPU: NVIDIA GeForce RTX 2060. Max memory: 6.0 GB. Platform: Linux.\n",
      "O^O/ \\_/ \\    Torch: 2.6.0+cu118. CUDA: 7.5. CUDA Toolkit: 11.8. Triton: 3.2.0\n",
      "\\        /    Bfloat16 = FALSE. FA [Xformers = 0.0.29.post2. FA2 = False]\n",
      " \"-____-\"     Free Apache license: http://github.com/unslothai/unsloth\n",
      "Unsloth: Fast downloading is enabled - ignore downloading bars which are red colored!\n"
     ]
    }
   ],
   "source": [
    "from unsloth import FastLanguageModel\n",
    "\n",
    "# model_name = \"unsloth/DeepSeek-R1-Distill-Llama-8B-unsloth-bnb-4bit\"\n",
    "model_name = \"unsloth/DeepSeek-R1-Distill-Qwen-1.5B-bnb-4bit\"\n",
    "max_seq_length = 2048\n",
    "model, tokenizer = FastLanguageModel.from_pretrained(\n",
    "    model_name=model_name,\n",
    "    max_seq_length=max_seq_length,\n",
    "    load_in_4bit=True,\n",
    "    # device_map=\"auto\",\n",
    ")"
   ]
  },
  {
   "cell_type": "markdown",
   "id": "84d61d7b-db18-4817-b155-a99a03d33dff",
   "metadata": {},
   "source": [
    "Prepare Company Data Informations for fine-tuning"
   ]
  },
  {
   "cell_type": "code",
   "execution_count": 3,
   "id": "aabf4b2b-5c60-43a4-bf1f-bd373f0852d2",
   "metadata": {},
   "outputs": [
    {
     "name": "stdout",
     "output_type": "stream",
     "text": [
      "Products already exist. No new records inserted.\n",
      "(1, 'Death A', 'Death', '{\"coverage\": \"term\", \"premium\": 100, \"SA\":10000}', 'InsureAI')\n",
      "(2, 'Death B', 'Death', '{\"coverage\": \"endowment\", \"premium\": 200, \"SA\":20000}', 'InsureAI')\n",
      "(3, 'Death C', 'Death', '{\"coverage\": \"full\", \"premium\": 300, \"SA\":30000}', 'InsureAI')\n",
      "(4, 'TPD A', 'TPD', '{\"coverage\": \"term\", \"premium\": 100, \"SA\":10000}', 'InsureAI')\n",
      "(5, 'TPD B', 'TPD', '{\"coverage\": \"endowment\", \"premium\": 200, \"SA\":20000}', 'InsureAI')\n",
      "(6, 'TPD C', 'TPD', '{\"coverage\": \"full\", \"premium\": 300, \"SA\":30000}', 'InsureAI')\n",
      "(7, 'Critical Illness A', 'Critical Illness', '{\"coverage\": \"term\", \"premium\": 100, \"SA\":10000}', 'InsureAI')\n",
      "(8, 'Critical Illness B', 'Critical Illness', '{\"coverage\": \"endowment\", \"premium\": 200, \"SA\":20000}', 'InsureAI')\n",
      "(9, 'Critical Illness C', 'Critical Illness', '{\"coverage\": \"full\", \"premium\": 300, \"SA\":30000}', 'InsureAI')\n",
      "(10, 'Accidental A', 'Accidental', '{\"coverage\": \"term\", \"premium\": 100, \"SA\":10000}', 'InsureAI')\n",
      "(11, 'Accidental B', 'Accidental', '{\"coverage\": \"endowment\", \"premium\": 200, \"SA\":20000}', 'InsureAI')\n",
      "(12, 'Accidental C', 'Accidental', '{\"coverage\": \"full\", \"premium\": 300, \"SA\":30000}', 'InsureAI')\n",
      "(13, 'Hospitalisation A', 'Hospitalisation', '{\"coverage\": \"term\", \"premium\": 100, \"SA\":10000}', 'InsureAI')\n",
      "(14, 'Hospitalisation B', 'Hospitalisation', '{\"coverage\": \"endowment\", \"premium\": 200, \"SA\":20000}', 'InsureAI')\n",
      "(15, 'Hospitalisation C', 'Hospitalisation', '{\"coverage\": \"full\", \"premium\": 300, \"SA\":30000}', 'InsureAI')\n",
      "setup.py executed successfully.\n"
     ]
    }
   ],
   "source": [
    "# Initialize insurance.db data\n",
    "import subprocess\n",
    "\n",
    "# Define the path to setup.py relative to the notebook\n",
    "setup_script_path = os.path.abspath(\"../sql/setup.py\")\n",
    "\n",
    "# Run the setup.py script\n",
    "try:\n",
    "    subprocess.run([\"python\", setup_script_path], check=True)\n",
    "    print(\"setup.py executed successfully.\")\n",
    "except subprocess.CalledProcessError as e:\n",
    "    print(f\"An error occurred while executing setup.py: {e}\")\n"
   ]
  },
  {
   "cell_type": "code",
   "execution_count": 4,
   "id": "26d2038b-3da3-48f8-a0b0-f0e84573c805",
   "metadata": {},
   "outputs": [
    {
     "name": "stdout",
     "output_type": "stream",
     "text": [
      "Training samples: 3504\n",
      "Evaluation samples: 1504\n",
      "Files saved successfully!\n"
     ]
    }
   ],
   "source": [
    "import json\n",
    "import sqlite3\n",
    "import os\n",
    "import random\n",
    "import numpy as np\n",
    "from sklearn.model_selection import train_test_split\n",
    "\n",
    "# Configuration\n",
    "NUM_VARIATIONS_PER_ITEM = 313  # 219 + 94 = 313 (70% + 30%)\n",
    "TRAIN_TEST_SPLIT = 0.3\n",
    "SEED = 42\n",
    "random.seed(SEED)\n",
    "np.random.seed(SEED)\n",
    "\n",
    "# Initialize database connection (replace with your actual path)\n",
    "home_dir = os.path.expanduser(\"~/InsureAI\")\n",
    "conn = sqlite3.connect(os.path.join(home_dir, 'insurance.db'))\n",
    "cursor = conn.cursor()\n",
    "\n",
    "# Fetch products from database\n",
    "cursor.execute(\"SELECT * FROM products\")\n",
    "products = cursor.fetchall()\n",
    "\n",
    "# Base company data\n",
    "company_data = {\n",
    "    \"company_name\": \"InsureAI\",\n",
    "    \"launch_date\": \"1995-05-15\",\n",
    "    \"description\": \"InsureAI is a leading provider of life, health, and general insurance products in Singapore. We are committed to helping our customers achieve financial security and peace of mind.\",\n",
    "    \"company_type\": \"Life and General Insurance\",\n",
    "    \"headquarters\": \"Singapore\",\n",
    "    \"website\": \"https://www.insureai.sg\",\n",
    "    \"contact_email\": \"info@insureai.sg\",\n",
    "    \"contact_phone\": \"+65 8888 1314\",\n",
    "    \"products\": []\n",
    "}\n",
    "\n",
    "# Process products\n",
    "for product in products:\n",
    "    product_id, name, types, features, company = product\n",
    "    features_dict = json.loads(features)\n",
    "    \n",
    "    product_details = {\n",
    "        \"id\": product_id,\n",
    "        \"name\": name,\n",
    "        \"types\": types,\n",
    "        \"features\": features_dict,\n",
    "        \"base_description\": f\"{name} is a type of {types} insurance. It is a/an {features_dict.get('coverage')} insurance product offered by {company}. Key features include: {', '.join([f'{k}: {v}' for k, v in features_dict.items()])}.\"\n",
    "    }\n",
    "    company_data[\"products\"].append(product_details)\n",
    "\n",
    "# Variation generation functions\n",
    "def generate_company_variations(company, num_variations):\n",
    "    variations = []\n",
    "    \n",
    "    # Prompt templates\n",
    "    prompt_templates = [\n",
    "        \"Tell me about {name}\",\n",
    "        \"Describe {name}\",\n",
    "        \"What can you tell me about {name}?\",\n",
    "        \"Provide information about {name}\",\n",
    "        \"Give me an overview of {name}\",\n",
    "        \"What is {name} known for?\",\n",
    "        \"Share details about {name}\",\n",
    "        \"Can you explain what {name} does?\",\n",
    "        \"I need information about {name}\",\n",
    "        \"What makes {name} unique?\",\n",
    "        \"How would you describe {name}?\",\n",
    "        \"What should I know about {name}?\",\n",
    "        \"Please introduce {name}\",\n",
    "        \"Explain the company {name}\",\n",
    "        \"What are the key facts about {name}?\"\n",
    "    ]\n",
    "    \n",
    "    # Completion components\n",
    "    components = {\n",
    "        'type': [\n",
    "            f\"{company['company_name']} is a {company['company_type']} company\",\n",
    "            f\"A {company['company_type']} provider: {company['company_name']}\",\n",
    "            f\"Operating as a {company['company_type']} company\"\n",
    "        ],\n",
    "        'hq': [\n",
    "            f\"headquartered in {company['headquarters']}\",\n",
    "            f\"based in {company['headquarters']}\",\n",
    "            f\"with its main office in {company['headquarters']}\"\n",
    "        ],\n",
    "        'launch': [\n",
    "            f\"Established in {company['launch_date']}\",\n",
    "            f\"Founded on {company['launch_date']}\",\n",
    "            f\"Operating since {company['launch_date']}\"\n",
    "        ],\n",
    "        'desc': [\n",
    "            company['description'],\n",
    "            company['description'].replace(\"leading\", \"prominent\"),\n",
    "            company['description'].replace(\"helping\", \"assisting\")\n",
    "        ],\n",
    "        'contact': [\n",
    "            f\"Contact: {company['contact_email']} | {company['contact_phone']} | {company['website']}\",\n",
    "            f\"Reach them at {company['contact_phone']} or {company['contact_email']}\",\n",
    "            f\"Website: {company['website']} | Email: {company['contact_email']}\"\n",
    "        ]\n",
    "    }\n",
    "\n",
    "    for _ in range(num_variations):\n",
    "        # Generate prompt\n",
    "        prompt = random.choice(prompt_templates).format(name=company['company_name'])\n",
    "        \n",
    "        # Generate completion with shuffled components\n",
    "        completion_parts = [\n",
    "            random.choice(components['type']),\n",
    "            random.choice(components['hq']),\n",
    "            random.choice(components['launch']),\n",
    "            random.choice(components['desc']),\n",
    "            random.choice(components['contact'])\n",
    "        ]\n",
    "        random.shuffle(completion_parts)\n",
    "        completion = \". \".join(completion_parts) + \".\"\n",
    "        \n",
    "        variations.append((prompt, completion))\n",
    "    \n",
    "    return variations\n",
    "\n",
    "def generate_product_variations(product, company_name, num_variations):\n",
    "    variations = []\n",
    "    \n",
    "    # Prompt templates\n",
    "    prompt_templates = [\n",
    "        \"Describe {product} from {company}\",\n",
    "        \"What does {product} by {company} offer?\",\n",
    "        \"Explain the {product} insurance policy\",\n",
    "        \"What are the features of {product}?\",\n",
    "        \"Tell me about {company}'s {product}\",\n",
    "        \"What coverage does {product} provide?\",\n",
    "        \"Details about the {product} plan\",\n",
    "        \"What makes {product} by {company} special?\",\n",
    "        \"Information about {product} insurance\",\n",
    "        \"Why choose {product} from {company}?\"\n",
    "    ]\n",
    "    \n",
    "    # Completion components\n",
    "    components = {\n",
    "        'type': [\n",
    "            f\"{product['name']} is a {product['types']} insurance product\",\n",
    "            f\"This {product['types']} policy: {product['name']}\",\n",
    "            f\"A {product['types']} solution: {product['name']}\"\n",
    "        ],\n",
    "        'coverage': [\n",
    "            f\"Coverage type: {product['features']['coverage']}\",\n",
    "            f\"{product['features']['coverage'].title()} coverage\",\n",
    "            f\"Provides {product['features']['coverage']} protection\"\n",
    "        ],\n",
    "        'premium': [\n",
    "            f\"Premium: ${product['features']['premium']}\",\n",
    "            f\"Cost: {product['features']['premium']} SGD\",\n",
    "            f\"Priced at {product['features']['premium']} SGD\"\n",
    "        ],\n",
    "        'sa': [\n",
    "            f\"Sum assured: {product['features']['SA']} SGD\",\n",
    "            f\"Coverage amount: {product['features']['SA']}\",\n",
    "            f\"SA: {product['features']['SA']}\"\n",
    "        ],\n",
    "        'desc': [\n",
    "            f\"Offered by {company_name}\",\n",
    "            \"Designed for comprehensive protection\",\n",
    "            \"Includes valuable benefits\",\n",
    "            \"Flexible policy options\"\n",
    "        ]\n",
    "    }\n",
    "\n",
    "    for _ in range(num_variations):\n",
    "        # Generate prompt\n",
    "        prompt = random.choice(prompt_templates).format(\n",
    "            product=product['name'], \n",
    "            company=company_name\n",
    "        )\n",
    "        \n",
    "        # Generate completion\n",
    "        completion_parts = [\n",
    "            random.choice(components['type']),\n",
    "            random.choice(components['coverage']),\n",
    "            random.choice(components['premium']),\n",
    "            random.choice(components['sa']),\n",
    "            random.choice(components['desc'])\n",
    "        ]\n",
    "        random.shuffle(completion_parts)\n",
    "        completion = \". \".join(completion_parts) + \".\"\n",
    "        \n",
    "        variations.append((prompt, completion))\n",
    "    \n",
    "    return variations\n",
    "\n",
    "# Generate and split data\n",
    "all_train = []\n",
    "all_eval = []\n",
    "\n",
    "# Company variations\n",
    "company_variations = generate_company_variations(company_data, NUM_VARIATIONS_PER_ITEM)\n",
    "train_company, eval_company = train_test_split(\n",
    "    company_variations, \n",
    "    test_size=TRAIN_TEST_SPLIT,\n",
    "    random_state=SEED\n",
    ")\n",
    "all_train.extend(train_company)\n",
    "all_eval.extend(eval_company)\n",
    "\n",
    "# Product variations\n",
    "for product in company_data[\"products\"]:\n",
    "    product_variations = generate_product_variations(\n",
    "        product,\n",
    "        company_data[\"company_name\"],\n",
    "        NUM_VARIATIONS_PER_ITEM\n",
    "    )\n",
    "    train_product, eval_product = train_test_split(\n",
    "        product_variations,\n",
    "        test_size=TRAIN_TEST_SPLIT,\n",
    "        random_state=SEED\n",
    "    )\n",
    "    all_train.extend(train_product)\n",
    "    all_eval.extend(eval_product)\n",
    "\n",
    "# Shuffle datasets\n",
    "random.shuffle(all_train)\n",
    "random.shuffle(all_eval)\n",
    "\n",
    "# Save to JSONL files\n",
    "def save_jsonl(data, filename):\n",
    "    with open(filename, \"w\") as f:\n",
    "        for prompt, completion in data:\n",
    "            f.write(json.dumps({\n",
    "                \"prompt\": \"[INSURANCE_QUERY] \" + prompt + \"\\n\\n###\\n\\n\",\n",
    "                \"completion\": \" \" + completion + \" END\"\n",
    "            }) + \"\\n\")\n",
    "\n",
    "save_jsonl(all_train, \"train_data.jsonl\")\n",
    "save_jsonl(all_eval, \"eval_data.jsonl\")\n",
    "\n",
    "print(f\"Training samples: {len(all_train)}\")\n",
    "print(f\"Evaluation samples: {len(all_eval)}\")\n",
    "print(\"Files saved successfully!\")"
   ]
  },
  {
   "cell_type": "code",
   "execution_count": 5,
   "id": "f2c85226-5c0c-4de5-a7da-8b4b1bc94d1e",
   "metadata": {},
   "outputs": [
    {
     "name": "stderr",
     "output_type": "stream",
     "text": [
      "Generating train split: 3504 examples [00:00, 604783.39 examples/s]\n",
      "Generating test split: 1504 examples [00:00, 387364.64 examples/s]\n"
     ]
    }
   ],
   "source": [
    "# Load the fine-tuning data\n",
    "# dataset = load_dataset(\"json\", data_files=\"fine_tuning_data.jsonl\")\n",
    "dataset = load_dataset(\"json\", data_files={\"train\": \"train_data.jsonl\", \"test\": \"eval_data.jsonl\"})"
   ]
  },
  {
   "cell_type": "code",
   "execution_count": 6,
   "id": "4daef35d-a5e3-4457-9af9-ab5879fbee16",
   "metadata": {},
   "outputs": [
    {
     "name": "stderr",
     "output_type": "stream",
     "text": [
      "Map: 100%|██████████████████████████████████████████████████████████████████| 3504/3504 [00:04<00:00, 723.71 examples/s]\n",
      "Map: 100%|█████████████████████████████████████████████████████████████████| 1504/1504 [00:01<00:00, 1033.71 examples/s]\n"
     ]
    }
   ],
   "source": [
    "# Tokenize the dataset\n",
    "def preprocess_function(examples):\n",
    "    inputs = tokenizer(examples[\"prompt\"], max_length=max_seq_length, truncation=True, padding=\"max_length\")\n",
    "    outputs = tokenizer(examples[\"completion\"], max_length=max_seq_length, truncation=True, padding=\"max_length\")\n",
    "    inputs[\"labels\"] = outputs[\"input_ids\"]  # Set the response as labels for training\n",
    "    return inputs\n",
    "tokenized_dataset = dataset.map(preprocess_function, batched=True)"
   ]
  },
  {
   "cell_type": "code",
   "execution_count": 7,
   "id": "b0752905-2327-4893-8523-379ff13299e2",
   "metadata": {},
   "outputs": [
    {
     "name": "stderr",
     "output_type": "stream",
     "text": [
      "Unsloth: Dropout = 0 is supported for fast patching. You are using dropout = 0.05.\n",
      "Unsloth will patch all other layers, except LoRA matrices, causing a performance hit.\n",
      "Unsloth 2025.1.8 patched 28 layers with 0 QKV layers, 0 O layers and 0 MLP layers.\n"
     ]
    }
   ],
   "source": [
    "model = FastLanguageModel.get_peft_model(\n",
    "    model,\n",
    "    r=16,  # LoRA rank\n",
    "    target_modules=[\"q_proj\", \"v_proj\"],  # Fine-tune key attention layers\n",
    "    lora_alpha=32,\n",
    "    lora_dropout=0.05,\n",
    "    bias=\"none\",\n",
    "    use_gradient_checkpointing=True,\n",
    ")"
   ]
  },
  {
   "cell_type": "code",
   "execution_count": 8,
   "id": "dce49067-8027-4c5a-9a29-7a00e7b3f00c",
   "metadata": {},
   "outputs": [],
   "source": [
    "training_args = TrainingArguments(\n",
    "    output_dir=\"./results\",  # Where to save model checkpoints\n",
    "    overwrite_output_dir=True,  # Overwrite old checkpoints\n",
    "    per_device_train_batch_size=1,  # Small batch to fit in 6GB VRAM\n",
    "    per_device_eval_batch_size=1,  # Same for evaluation\n",
    "    gradient_accumulation_steps=8,  # Helps with small batch size\n",
    "    eval_strategy=\"steps\",  # Evaluate every few steps\n",
    "    eval_steps=500,  # Frequency of evaluation\n",
    "    save_steps=500,  # Save model every 500 steps\n",
    "    save_total_limit=2,  # Keep only last 2 checkpoints\n",
    "    logging_dir=\"./logs\",  # Log directory\n",
    "    logging_steps=100,  # Log every 100 steps\n",
    "    learning_rate=2e-5,  # Suitable for Qwen fine-tuning\n",
    "    num_train_epochs=5,  # Number of epochs\n",
    "    weight_decay=0.01,  # Regularization\n",
    "    fp16=True,  # Use mixed precision to save VRAM\n",
    "    optim=\"adamw_bnb_8bit\",  # 8-bit optimizer for efficiency\n",
    "    lr_scheduler_type=\"cosine\",  # Learning rate decay\n",
    "    warmup_steps=100,  # Gradual increase in learning rate\n",
    "    report_to=\"none\",  # Avoid logging to external tools\n",
    ")\n"
   ]
  },
  {
   "cell_type": "code",
   "execution_count": 9,
   "id": "d9a98513-77b3-4011-a9b6-9d1074981d50",
   "metadata": {},
   "outputs": [
    {
     "name": "stderr",
     "output_type": "stream",
     "text": [
      "/tmp/ipykernel_3836/3298343692.py:1: FutureWarning: `tokenizer` is deprecated and will be removed in version 5.0.0 for `Trainer.__init__`. Use `processing_class` instead.\n",
      "  trainer = Trainer(\n",
      "==((====))==  Unsloth - 2x faster free finetuning | Num GPUs = 1\n",
      "   \\\\   /|    Num examples = 3,504 | Num Epochs = 20\n",
      "O^O/ \\_/ \\    Batch size per device = 1 | Gradient Accumulation steps = 8\n",
      "\\        /    Total batch size = 8 | Total steps = 8,760\n",
      " \"-____-\"     Number of trainable parameters = 2,179,072\n"
     ]
    },
    {
     "data": {
      "text/html": [
       "\n",
       "    <div>\n",
       "      \n",
       "      <progress value='50' max='8760' style='width:300px; height:20px; vertical-align: middle;'></progress>\n",
       "      [  50/8760 10:34 < 31:57:56, 0.08 it/s, Epoch 0.11/20]\n",
       "    </div>\n",
       "    <table border=\"1\" class=\"dataframe\">\n",
       "  <thead>\n",
       " <tr style=\"text-align: left;\">\n",
       "      <th>Step</th>\n",
       "      <th>Training Loss</th>\n",
       "      <th>Validation Loss</th>\n",
       "    </tr>\n",
       "  </thead>\n",
       "  <tbody>\n",
       "  </tbody>\n",
       "</table><p>"
      ],
      "text/plain": [
       "<IPython.core.display.HTML object>"
      ]
     },
     "metadata": {},
     "output_type": "display_data"
    },
    {
     "ename": "KeyboardInterrupt",
     "evalue": "",
     "output_type": "error",
     "traceback": [
      "\u001b[0;31m---------------------------------------------------------------------------\u001b[0m",
      "\u001b[0;31mKeyboardInterrupt\u001b[0m                         Traceback (most recent call last)",
      "Cell \u001b[0;32mIn[9], line 8\u001b[0m\n\u001b[1;32m      1\u001b[0m trainer \u001b[38;5;241m=\u001b[39m Trainer(\n\u001b[1;32m      2\u001b[0m     model\u001b[38;5;241m=\u001b[39mmodel,\n\u001b[1;32m      3\u001b[0m     args\u001b[38;5;241m=\u001b[39mtraining_args,\n\u001b[0;32m   (...)\u001b[0m\n\u001b[1;32m      6\u001b[0m     tokenizer\u001b[38;5;241m=\u001b[39mtokenizer,\n\u001b[1;32m      7\u001b[0m )\n\u001b[0;32m----> 8\u001b[0m \u001b[43mtrainer\u001b[49m\u001b[38;5;241;43m.\u001b[39;49m\u001b[43mtrain\u001b[49m\u001b[43m(\u001b[49m\u001b[43m)\u001b[49m\n",
      "File \u001b[0;32m~/miniconda3/envs/DeepSeek/lib/python3.10/site-packages/transformers/trainer.py:2171\u001b[0m, in \u001b[0;36mTrainer.train\u001b[0;34m(self, resume_from_checkpoint, trial, ignore_keys_for_eval, **kwargs)\u001b[0m\n\u001b[1;32m   2169\u001b[0m         hf_hub_utils\u001b[38;5;241m.\u001b[39menable_progress_bars()\n\u001b[1;32m   2170\u001b[0m \u001b[38;5;28;01melse\u001b[39;00m:\n\u001b[0;32m-> 2171\u001b[0m     \u001b[38;5;28;01mreturn\u001b[39;00m \u001b[43minner_training_loop\u001b[49m\u001b[43m(\u001b[49m\n\u001b[1;32m   2172\u001b[0m \u001b[43m        \u001b[49m\u001b[43margs\u001b[49m\u001b[38;5;241;43m=\u001b[39;49m\u001b[43margs\u001b[49m\u001b[43m,\u001b[49m\n\u001b[1;32m   2173\u001b[0m \u001b[43m        \u001b[49m\u001b[43mresume_from_checkpoint\u001b[49m\u001b[38;5;241;43m=\u001b[39;49m\u001b[43mresume_from_checkpoint\u001b[49m\u001b[43m,\u001b[49m\n\u001b[1;32m   2174\u001b[0m \u001b[43m        \u001b[49m\u001b[43mtrial\u001b[49m\u001b[38;5;241;43m=\u001b[39;49m\u001b[43mtrial\u001b[49m\u001b[43m,\u001b[49m\n\u001b[1;32m   2175\u001b[0m \u001b[43m        \u001b[49m\u001b[43mignore_keys_for_eval\u001b[49m\u001b[38;5;241;43m=\u001b[39;49m\u001b[43mignore_keys_for_eval\u001b[49m\u001b[43m,\u001b[49m\n\u001b[1;32m   2176\u001b[0m \u001b[43m    \u001b[49m\u001b[43m)\u001b[49m\n",
      "File \u001b[0;32m<string>:382\u001b[0m, in \u001b[0;36m_fast_inner_training_loop\u001b[0;34m(self, batch_size, args, resume_from_checkpoint, trial, ignore_keys_for_eval)\u001b[0m\n",
      "File \u001b[0;32m<string>:68\u001b[0m, in \u001b[0;36m_unsloth_training_step\u001b[0;34m(***failed resolving arguments***)\u001b[0m\n",
      "File \u001b[0;32m~/miniconda3/envs/DeepSeek/lib/python3.10/site-packages/accelerate/accelerator.py:2242\u001b[0m, in \u001b[0;36mAccelerator.backward\u001b[0;34m(self, loss, **kwargs)\u001b[0m\n\u001b[1;32m   2240\u001b[0m     \u001b[38;5;28;01mreturn\u001b[39;00m\n\u001b[1;32m   2241\u001b[0m \u001b[38;5;28;01melif\u001b[39;00m \u001b[38;5;28mself\u001b[39m\u001b[38;5;241m.\u001b[39mscaler \u001b[38;5;129;01mis\u001b[39;00m \u001b[38;5;129;01mnot\u001b[39;00m \u001b[38;5;28;01mNone\u001b[39;00m:\n\u001b[0;32m-> 2242\u001b[0m     \u001b[38;5;28;43mself\u001b[39;49m\u001b[38;5;241;43m.\u001b[39;49m\u001b[43mscaler\u001b[49m\u001b[38;5;241;43m.\u001b[39;49m\u001b[43mscale\u001b[49m\u001b[43m(\u001b[49m\u001b[43mloss\u001b[49m\u001b[43m)\u001b[49m\u001b[38;5;241;43m.\u001b[39;49m\u001b[43mbackward\u001b[49m\u001b[43m(\u001b[49m\u001b[38;5;241;43m*\u001b[39;49m\u001b[38;5;241;43m*\u001b[39;49m\u001b[43mkwargs\u001b[49m\u001b[43m)\u001b[49m\n\u001b[1;32m   2243\u001b[0m \u001b[38;5;28;01melif\u001b[39;00m learning_rate \u001b[38;5;129;01mis\u001b[39;00m \u001b[38;5;129;01mnot\u001b[39;00m \u001b[38;5;28;01mNone\u001b[39;00m \u001b[38;5;129;01mand\u001b[39;00m \u001b[38;5;28mself\u001b[39m\u001b[38;5;241m.\u001b[39mhas_lomo_optimizer:\n\u001b[1;32m   2244\u001b[0m     \u001b[38;5;28mself\u001b[39m\u001b[38;5;241m.\u001b[39mlomo_backward(loss, learning_rate)\n",
      "File \u001b[0;32m~/miniconda3/envs/DeepSeek/lib/python3.10/site-packages/torch/_tensor.py:626\u001b[0m, in \u001b[0;36mTensor.backward\u001b[0;34m(self, gradient, retain_graph, create_graph, inputs)\u001b[0m\n\u001b[1;32m    616\u001b[0m \u001b[38;5;28;01mif\u001b[39;00m has_torch_function_unary(\u001b[38;5;28mself\u001b[39m):\n\u001b[1;32m    617\u001b[0m     \u001b[38;5;28;01mreturn\u001b[39;00m handle_torch_function(\n\u001b[1;32m    618\u001b[0m         Tensor\u001b[38;5;241m.\u001b[39mbackward,\n\u001b[1;32m    619\u001b[0m         (\u001b[38;5;28mself\u001b[39m,),\n\u001b[0;32m   (...)\u001b[0m\n\u001b[1;32m    624\u001b[0m         inputs\u001b[38;5;241m=\u001b[39minputs,\n\u001b[1;32m    625\u001b[0m     )\n\u001b[0;32m--> 626\u001b[0m \u001b[43mtorch\u001b[49m\u001b[38;5;241;43m.\u001b[39;49m\u001b[43mautograd\u001b[49m\u001b[38;5;241;43m.\u001b[39;49m\u001b[43mbackward\u001b[49m\u001b[43m(\u001b[49m\n\u001b[1;32m    627\u001b[0m \u001b[43m    \u001b[49m\u001b[38;5;28;43mself\u001b[39;49m\u001b[43m,\u001b[49m\u001b[43m \u001b[49m\u001b[43mgradient\u001b[49m\u001b[43m,\u001b[49m\u001b[43m \u001b[49m\u001b[43mretain_graph\u001b[49m\u001b[43m,\u001b[49m\u001b[43m \u001b[49m\u001b[43mcreate_graph\u001b[49m\u001b[43m,\u001b[49m\u001b[43m \u001b[49m\u001b[43minputs\u001b[49m\u001b[38;5;241;43m=\u001b[39;49m\u001b[43minputs\u001b[49m\n\u001b[1;32m    628\u001b[0m \u001b[43m\u001b[49m\u001b[43m)\u001b[49m\n",
      "File \u001b[0;32m~/miniconda3/envs/DeepSeek/lib/python3.10/site-packages/torch/autograd/__init__.py:347\u001b[0m, in \u001b[0;36mbackward\u001b[0;34m(tensors, grad_tensors, retain_graph, create_graph, grad_variables, inputs)\u001b[0m\n\u001b[1;32m    342\u001b[0m     retain_graph \u001b[38;5;241m=\u001b[39m create_graph\n\u001b[1;32m    344\u001b[0m \u001b[38;5;66;03m# The reason we repeat the same comment below is that\u001b[39;00m\n\u001b[1;32m    345\u001b[0m \u001b[38;5;66;03m# some Python versions print out the first line of a multi-line function\u001b[39;00m\n\u001b[1;32m    346\u001b[0m \u001b[38;5;66;03m# calls in the traceback and some print out the last line\u001b[39;00m\n\u001b[0;32m--> 347\u001b[0m \u001b[43m_engine_run_backward\u001b[49m\u001b[43m(\u001b[49m\n\u001b[1;32m    348\u001b[0m \u001b[43m    \u001b[49m\u001b[43mtensors\u001b[49m\u001b[43m,\u001b[49m\n\u001b[1;32m    349\u001b[0m \u001b[43m    \u001b[49m\u001b[43mgrad_tensors_\u001b[49m\u001b[43m,\u001b[49m\n\u001b[1;32m    350\u001b[0m \u001b[43m    \u001b[49m\u001b[43mretain_graph\u001b[49m\u001b[43m,\u001b[49m\n\u001b[1;32m    351\u001b[0m \u001b[43m    \u001b[49m\u001b[43mcreate_graph\u001b[49m\u001b[43m,\u001b[49m\n\u001b[1;32m    352\u001b[0m \u001b[43m    \u001b[49m\u001b[43minputs\u001b[49m\u001b[43m,\u001b[49m\n\u001b[1;32m    353\u001b[0m \u001b[43m    \u001b[49m\u001b[43mallow_unreachable\u001b[49m\u001b[38;5;241;43m=\u001b[39;49m\u001b[38;5;28;43;01mTrue\u001b[39;49;00m\u001b[43m,\u001b[49m\n\u001b[1;32m    354\u001b[0m \u001b[43m    \u001b[49m\u001b[43maccumulate_grad\u001b[49m\u001b[38;5;241;43m=\u001b[39;49m\u001b[38;5;28;43;01mTrue\u001b[39;49;00m\u001b[43m,\u001b[49m\n\u001b[1;32m    355\u001b[0m \u001b[43m\u001b[49m\u001b[43m)\u001b[49m\n",
      "File \u001b[0;32m~/miniconda3/envs/DeepSeek/lib/python3.10/site-packages/torch/autograd/graph.py:823\u001b[0m, in \u001b[0;36m_engine_run_backward\u001b[0;34m(t_outputs, *args, **kwargs)\u001b[0m\n\u001b[1;32m    821\u001b[0m     unregister_hooks \u001b[38;5;241m=\u001b[39m _register_logging_hooks_on_whole_graph(t_outputs)\n\u001b[1;32m    822\u001b[0m \u001b[38;5;28;01mtry\u001b[39;00m:\n\u001b[0;32m--> 823\u001b[0m     \u001b[38;5;28;01mreturn\u001b[39;00m \u001b[43mVariable\u001b[49m\u001b[38;5;241;43m.\u001b[39;49m\u001b[43m_execution_engine\u001b[49m\u001b[38;5;241;43m.\u001b[39;49m\u001b[43mrun_backward\u001b[49m\u001b[43m(\u001b[49m\u001b[43m  \u001b[49m\u001b[38;5;66;43;03m# Calls into the C++ engine to run the backward pass\u001b[39;49;00m\n\u001b[1;32m    824\u001b[0m \u001b[43m        \u001b[49m\u001b[43mt_outputs\u001b[49m\u001b[43m,\u001b[49m\u001b[43m \u001b[49m\u001b[38;5;241;43m*\u001b[39;49m\u001b[43margs\u001b[49m\u001b[43m,\u001b[49m\u001b[43m \u001b[49m\u001b[38;5;241;43m*\u001b[39;49m\u001b[38;5;241;43m*\u001b[39;49m\u001b[43mkwargs\u001b[49m\n\u001b[1;32m    825\u001b[0m \u001b[43m    \u001b[49m\u001b[43m)\u001b[49m  \u001b[38;5;66;03m# Calls into the C++ engine to run the backward pass\u001b[39;00m\n\u001b[1;32m    826\u001b[0m \u001b[38;5;28;01mfinally\u001b[39;00m:\n\u001b[1;32m    827\u001b[0m     \u001b[38;5;28;01mif\u001b[39;00m attach_logging_hooks:\n",
      "\u001b[0;31mKeyboardInterrupt\u001b[0m: "
     ]
    }
   ],
   "source": [
    "trainer = Trainer(\n",
    "    model=model,\n",
    "    args=training_args,\n",
    "    train_dataset=tokenized_dataset[\"train\"],\n",
    "    eval_dataset=tokenized_dataset[\"test\"],\n",
    "    tokenizer=tokenizer,\n",
    ")\n",
    "trainer.train()"
   ]
  },
  {
   "cell_type": "code",
   "execution_count": null,
   "id": "35c42853-5c93-4d5b-b481-a752bfecb518",
   "metadata": {},
   "outputs": [],
   "source": [
    "# Evaluate the model\n",
    "import math\n",
    "\n",
    "eval_results = trainer.evaluate()\n",
    "print(eval_results)\n",
    "\n",
    "perplexity = math.exp(eval_results[\"eval_loss\"])\n",
    "print(f\"Perplexity: {perplexity}\")"
   ]
  },
  {
   "cell_type": "code",
   "execution_count": null,
   "id": "0de88483-d133-4156-bb11-ad285d175aae",
   "metadata": {},
   "outputs": [],
   "source": [
    "# Save the model and tokenizer\n",
    "model.save_pretrained(model_dir)\n",
    "tokenizer.save_pretrained(model_dir)\n",
    "\n",
    "print(f\"Fine-tuning complete. Model saved to {model_dir}.\")"
   ]
  }
 ],
 "metadata": {
  "kernelspec": {
   "display_name": "Python 3 (ipykernel)",
   "language": "python",
   "name": "python3"
  },
  "language_info": {
   "codemirror_mode": {
    "name": "ipython",
    "version": 3
   },
   "file_extension": ".py",
   "mimetype": "text/x-python",
   "name": "python",
   "nbconvert_exporter": "python",
   "pygments_lexer": "ipython3",
   "version": "3.10.16"
  }
 },
 "nbformat": 4,
 "nbformat_minor": 5
}
