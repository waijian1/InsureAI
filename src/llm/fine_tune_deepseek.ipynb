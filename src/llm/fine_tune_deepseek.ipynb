{
 "cells": [
  {
   "cell_type": "code",
   "execution_count": 1,
   "id": "32a85009-74e3-4a35-b7ed-737db17269a5",
   "metadata": {},
   "outputs": [
    {
     "name": "stderr",
     "output_type": "stream",
     "text": [
      "/home/waijianlim/miniconda3/envs/DeepSeek/lib/python3.10/site-packages/tqdm/auto.py:21: TqdmWarning: IProgress not found. Please update jupyter and ipywidgets. See https://ipywidgets.readthedocs.io/en/stable/user_install.html\n",
      "  from .autonotebook import tqdm as notebook_tqdm\n"
     ]
    }
   ],
   "source": [
    "from transformers import AutoModelForCausalLM, AutoTokenizer, Trainer, TrainingArguments\n",
    "from datasets import load_dataset\n",
    "import os\n",
    "\n",
    "# Define the path to save the fine-tuned model\n",
    "save_dir = os.path.join(\"..\", \"..\", \"models\", \"fine_tuned_model\")  # Points to InsureAI/models/fine_tuned_model"
   ]
  },
  {
   "cell_type": "code",
   "execution_count": 2,
   "id": "0f1dae57-da3b-47a2-a3b1-136cb82e6751",
   "metadata": {},
   "outputs": [
    {
     "name": "stdout",
     "output_type": "stream",
     "text": [
      "🦥 Unsloth: Will patch your computer to enable 2x faster free finetuning.\n",
      "🦥 Unsloth Zoo will now patch everything to make training faster!\n",
      "==((====))==  Unsloth 2025.1.8: Fast Qwen2 patching. Transformers: 4.48.2.\n",
      "   \\\\   /|    GPU: NVIDIA GeForce RTX 2060. Max memory: 6.0 GB. Platform: Linux.\n",
      "O^O/ \\_/ \\    Torch: 2.6.0+cu118. CUDA: 7.5. CUDA Toolkit: 11.8. Triton: 3.2.0\n",
      "\\        /    Bfloat16 = FALSE. FA [Xformers = 0.0.29.post2. FA2 = False]\n",
      " \"-____-\"     Free Apache license: http://github.com/unslothai/unsloth\n",
      "Unsloth: Fast downloading is enabled - ignore downloading bars which are red colored!\n"
     ]
    }
   ],
   "source": [
    "from unsloth import FastLanguageModel\n",
    "\n",
    "# model_name = \"unsloth/DeepSeek-R1-Distill-Llama-8B-unsloth-bnb-4bit\"\n",
    "model_name = \"unsloth/DeepSeek-R1-Distill-Qwen-1.5B-bnb-4bit\"\n",
    "max_seq_length = 2048 #512 #2048\n",
    "model, tokenizer = FastLanguageModel.from_pretrained(\n",
    "    model_name=model_name,\n",
    "    max_seq_length=max_seq_length,\n",
    "    load_in_4bit=True,\n",
    "    # device_map=\"auto\",\n",
    ")"
   ]
  },
  {
   "cell_type": "markdown",
   "id": "84d61d7b-db18-4817-b155-a99a03d33dff",
   "metadata": {},
   "source": [
    "Prepare Company Data Informations for fine-tuning"
   ]
  },
  {
   "cell_type": "code",
   "execution_count": 3,
   "id": "aabf4b2b-5c60-43a4-bf1f-bd373f0852d2",
   "metadata": {},
   "outputs": [
    {
     "name": "stdout",
     "output_type": "stream",
     "text": [
      "(1, 'Death A', 'Death', '{\"coverage\": \"term\", \"premium\": 100, \"SA\":10000}', 'InsureAI')\n",
      "(2, 'Death B', 'Death', '{\"coverage\": \"endowment\", \"premium\": 200, \"SA\":20000}', 'InsureAI')\n",
      "(3, 'Death C', 'Death', '{\"coverage\": \"full\", \"premium\": 300, \"SA\":30000}', 'InsureAI')\n",
      "(4, 'TPD A', 'TPD', '{\"coverage\": \"term\", \"premium\": 100, \"SA\":10000}', 'InsureAI')\n",
      "(5, 'TPD B', 'TPD', '{\"coverage\": \"endowment\", \"premium\": 200, \"SA\":20000}', 'InsureAI')\n",
      "(6, 'TPD C', 'TPD', '{\"coverage\": \"full\", \"premium\": 300, \"SA\":30000}', 'InsureAI')\n",
      "(7, 'Critical Illness A', 'Critical Illness', '{\"coverage\": \"term\", \"premium\": 100, \"SA\":10000}', 'InsureAI')\n",
      "(8, 'Critical Illness B', 'Critical Illness', '{\"coverage\": \"endowment\", \"premium\": 200, \"SA\":20000}', 'InsureAI')\n",
      "(9, 'Critical Illness C', 'Critical Illness', '{\"coverage\": \"full\", \"premium\": 300, \"SA\":30000}', 'InsureAI')\n",
      "(10, 'Accidental A', 'Accidental', '{\"coverage\": \"term\", \"premium\": 100, \"SA\":10000}', 'InsureAI')\n",
      "(11, 'Accidental B', 'Accidental', '{\"coverage\": \"endowment\", \"premium\": 200, \"SA\":20000}', 'InsureAI')\n",
      "(12, 'Accidental C', 'Accidental', '{\"coverage\": \"full\", \"premium\": 300, \"SA\":30000}', 'InsureAI')\n",
      "(13, 'Hospitalisation A', 'Hospitalisation', '{\"coverage\": \"term\", \"premium\": 100, \"SA\":10000}', 'InsureAI')\n",
      "(14, 'Hospitalisation B', 'Hospitalisation', '{\"coverage\": \"endowment\", \"premium\": 200, \"SA\":20000}', 'InsureAI')\n",
      "(15, 'Hospitalisation C', 'Hospitalisation', '{\"coverage\": \"full\", \"premium\": 300, \"SA\":30000}', 'InsureAI')\n",
      "setup.py executed successfully.\n"
     ]
    }
   ],
   "source": [
    "# Initialize insurance.db data\n",
    "import subprocess\n",
    "\n",
    "# Define the path to setup.py relative to the notebook\n",
    "setup_script_path = os.path.abspath(\"../sql/setup.py\")\n",
    "\n",
    "# Run the setup.py script\n",
    "try:\n",
    "    subprocess.run([\"python\", setup_script_path], check=True)\n",
    "    print(\"setup.py executed successfully.\")\n",
    "except subprocess.CalledProcessError as e:\n",
    "    print(f\"An error occurred while executing setup.py: {e}\")\n"
   ]
  },
  {
   "cell_type": "code",
   "execution_count": 4,
   "id": "d1857cfa-ece4-4d60-a125-0d249f2a22b7",
   "metadata": {},
   "outputs": [
    {
     "name": "stdout",
     "output_type": "stream",
     "text": [
      "Company data generated and saved to company_data.json.\n"
     ]
    }
   ],
   "source": [
    "import sqlite3\n",
    "import json\n",
    "\n",
    "# Connect to the SQLite database\n",
    "conn = sqlite3.connect('../../insurance.db')\n",
    "cursor = conn.cursor()\n",
    "\n",
    "# Fetch all products from the database\n",
    "cursor.execute(\"SELECT * FROM products\")\n",
    "products = cursor.fetchall()\n",
    "\n",
    "# Prepare the company data\n",
    "company_data = {\n",
    "    \"company_name\": \"InsureAI\",\n",
    "    \"launch_date\": \"1995-05-15\",\n",
    "    \"description\": \"InsureAI is a leading provider of life, health, and general insurance products in Singapore. We are committed to helping our customers achieve financial security and peace of mind.\",\n",
    "    \"company_type\": \"Life and General Insurance\",\n",
    "    \"headquarters\": \"Singapore\",\n",
    "    \"website\": \"https://www.insureai.sg\",\n",
    "    \"contact_email\": \"info@insureai.sg\",\n",
    "    \"contact_phone\": \"+65 8888 1314\",\n",
    "    \"products\": []\n",
    "}\n",
    "\n",
    "# Add products to the company data\n",
    "for product in products:\n",
    "    product_id, name, types, features, company = product\n",
    "    features_dict = json.loads(features)  # Convert features from JSON string to dict\n",
    "\n",
    "    product_details = {\n",
    "        \"id\": product_id,\n",
    "        \"name\": name,\n",
    "        \"types\": types,\n",
    "        \"features\": features_dict,\n",
    "        \"description\": f\"{name} is a type of {types} insurance. It is a/an {features_dict.get('coverage')} insurance product offered by {company}. Key features include: {', '.join([f'{k}: {v}' for k, v in features_dict.items()])}.\"\n",
    "    }\n",
    "    company_data[\"products\"].append(product_details)\n",
    "\n",
    "# Save company data to a JSON file (optional)\n",
    "with open(\"company_data.json\", \"w\") as f:\n",
    "    json.dump(company_data, f, indent=4)\n",
    "\n",
    "print(\"Company data generated and saved to company_data.json.\")"
   ]
  },
  {
   "cell_type": "code",
   "execution_count": 5,
   "id": "27432e93-9472-474b-a10f-c3323b236264",
   "metadata": {},
   "outputs": [
    {
     "name": "stdout",
     "output_type": "stream",
     "text": [
      "Fine-tuning data prepared and saved to fine_tuning_data.jsonl.\n"
     ]
    }
   ],
   "source": [
    "import json\n",
    "\n",
    "# Load company data\n",
    "with open(\"company_data.json\", \"r\") as f:\n",
    "    company_data = json.load(f)\n",
    "\n",
    "# Prepare fine-tuning data\n",
    "fine_tuning_data = []\n",
    "\n",
    "# Add company information as a separate prompt-completion pair\n",
    "company_prompt = f\"Tell me about the company {company_data['company_name']}.\"\n",
    "company_completion = (\n",
    "    f\"{company_data['company_name']} is a {company_data['company_type']} company headquartered in {company_data['headquarters']}. \"\n",
    "    f\"It was launched on {company_data['launch_date']}. {company_data['description']} \"\n",
    "    f\"You can contact them at email: {company_data['contact_email']} or phone: {company_data['contact_phone']}. \"\n",
    "    f\"Visit their website at {company_data['website']}.\"\n",
    ")\n",
    "fine_tuning_data.append({\"prompt\": company_prompt, \"completion\": company_completion})\n",
    "\n",
    "# Add product information\n",
    "for product in company_data[\"products\"]:\n",
    "    product_prompt = f\"Describe the insurance product {product['name']} offered by {company_data['company_name']}.\"\n",
    "    product_completion = product[\"description\"]\n",
    "    fine_tuning_data.append({\"prompt\": product_prompt, \"completion\": product_completion})\n",
    "\n",
    "# Save fine-tuning data to a JSONL file\n",
    "with open(\"fine_tuning_data.jsonl\", \"w\") as f:\n",
    "    for item in fine_tuning_data:\n",
    "        f.write(json.dumps(item) + \"\\n\")\n",
    "\n",
    "print(\"Fine-tuning data prepared and saved to fine_tuning_data.jsonl.\")"
   ]
  },
  {
   "cell_type": "code",
   "execution_count": 3,
   "id": "f2c85226-5c0c-4de5-a7da-8b4b1bc94d1e",
   "metadata": {},
   "outputs": [],
   "source": [
    "# Load the fine-tuning data\n",
    "# dataset = load_dataset(\"json\", data_files=\"fine_tuning_data.jsonl\")\n",
    "dataset = load_dataset(\"json\", data_files={\"train\": \"fine_tuning_data.jsonl\", \"test\": \"fine_tuning_data.jsonl\"})"
   ]
  },
  {
   "cell_type": "code",
   "execution_count": 4,
   "id": "4daef35d-a5e3-4457-9af9-ab5879fbee16",
   "metadata": {},
   "outputs": [
    {
     "name": "stderr",
     "output_type": "stream",
     "text": [
      "Map: 100%|██████████████████████████████████████████████████████████████████████| 16/16 [00:00<00:00, 405.77 examples/s]\n",
      "Map: 100%|██████████████████████████████████████████████████████████████████████| 16/16 [00:00<00:00, 544.27 examples/s]\n"
     ]
    }
   ],
   "source": [
    "prompt_template = \"\"\"Below is an instruction that describes a task. Write a response that appropriately completes the request.\n",
    "\n",
    "### Prompt:\n",
    "{prompt}\n",
    "### Response:\n",
    "\"\"\"\n",
    "def preprocess_function(examples):\n",
    "    inputs = [prompt_template.format(prompt=prpt) for prpt in examples[\"prompt\"]]\n",
    "    inputs = tokenizer(inputs, max_length=max_seq_length, truncation=True, padding=\"max_length\")\n",
    "    outputs = tokenizer(examples[\"completion\"], max_length=max_seq_length, truncation=True, padding=\"max_length\")\n",
    "    inputs[\"labels\"] = outputs[\"input_ids\"]  # Set the response as labels for training\n",
    "    return inputs\n",
    "tokenized_dataset = dataset.map(preprocess_function, batched=True)"
   ]
  },
  {
   "cell_type": "code",
   "execution_count": 5,
   "id": "b0752905-2327-4893-8523-379ff13299e2",
   "metadata": {},
   "outputs": [
    {
     "name": "stderr",
     "output_type": "stream",
     "text": [
      "Unsloth: Dropout = 0 is supported for fast patching. You are using dropout = 0.05.\n",
      "Unsloth will patch all other layers, except LoRA matrices, causing a performance hit.\n",
      "Unsloth 2025.1.8 patched 28 layers with 0 QKV layers, 0 O layers and 0 MLP layers.\n"
     ]
    }
   ],
   "source": [
    "model = FastLanguageModel.get_peft_model(\n",
    "    model,\n",
    "    r=16,  # LoRA rank\n",
    "    target_modules=[\"q_proj\", \"v_proj\"],  # Fine-tune key attention layers\n",
    "    lora_alpha=32,\n",
    "    lora_dropout=0.05,\n",
    "    bias=\"none\",\n",
    "    use_gradient_checkpointing=True,\n",
    ")"
   ]
  },
  {
   "cell_type": "code",
   "execution_count": 6,
   "id": "dce49067-8027-4c5a-9a29-7a00e7b3f00c",
   "metadata": {},
   "outputs": [],
   "source": [
    "training_args = TrainingArguments(\n",
    "    output_dir=\"./results\",  # Where to save model checkpoints\n",
    "    overwrite_output_dir=True,  # Overwrite old checkpoints\n",
    "    per_device_train_batch_size=1,  # Small batch to fit in 6GB VRAM\n",
    "    per_device_eval_batch_size=1,  # Same for evaluation\n",
    "    gradient_accumulation_steps=8,  # Helps with small batch size\n",
    "    eval_strategy=\"steps\",  # Evaluate every few steps\n",
    "    eval_steps=500,  # Frequency of evaluation\n",
    "    save_steps=500,  # Save model every 500 steps\n",
    "    save_total_limit=2,  # Keep only last 2 checkpoints\n",
    "    logging_dir=\"./logs\",  # Log directory\n",
    "    logging_steps=50,  # Log every 50 steps\n",
    "    learning_rate=2e-5,  # Suitable for Qwen fine-tuning\n",
    "    num_train_epochs=3,  # Number of epochs\n",
    "    weight_decay=0.01,  # Regularization\n",
    "    fp16=True,  # Use mixed precision to save VRAM\n",
    "    optim=\"adamw_bnb_8bit\",  # 8-bit optimizer for efficiency\n",
    "    lr_scheduler_type=\"cosine\",  # Learning rate decay\n",
    "    warmup_steps=100,  # Gradual increase in learning rate\n",
    "    report_to=\"none\",  # Avoid logging to external tools\n",
    ")\n"
   ]
  },
  {
   "cell_type": "code",
   "execution_count": 7,
   "id": "d9a98513-77b3-4011-a9b6-9d1074981d50",
   "metadata": {},
   "outputs": [
    {
     "name": "stderr",
     "output_type": "stream",
     "text": [
      "/tmp/ipykernel_17239/3298343692.py:1: FutureWarning: `tokenizer` is deprecated and will be removed in version 5.0.0 for `Trainer.__init__`. Use `processing_class` instead.\n",
      "  trainer = Trainer(\n",
      "==((====))==  Unsloth - 2x faster free finetuning | Num GPUs = 1\n",
      "   \\\\   /|    Num examples = 16 | Num Epochs = 3\n",
      "O^O/ \\_/ \\    Batch size per device = 1 | Gradient Accumulation steps = 8\n",
      "\\        /    Total batch size = 8 | Total steps = 6\n",
      " \"-____-\"     Number of trainable parameters = 2,179,072\n"
     ]
    },
    {
     "data": {
      "text/html": [
       "\n",
       "    <div>\n",
       "      \n",
       "      <progress value='6' max='6' style='width:300px; height:20px; vertical-align: middle;'></progress>\n",
       "      [6/6 01:06, Epoch 3/3]\n",
       "    </div>\n",
       "    <table border=\"1\" class=\"dataframe\">\n",
       "  <thead>\n",
       " <tr style=\"text-align: left;\">\n",
       "      <th>Step</th>\n",
       "      <th>Training Loss</th>\n",
       "      <th>Validation Loss</th>\n",
       "    </tr>\n",
       "  </thead>\n",
       "  <tbody>\n",
       "  </tbody>\n",
       "</table><p>"
      ],
      "text/plain": [
       "<IPython.core.display.HTML object>"
      ]
     },
     "metadata": {},
     "output_type": "display_data"
    },
    {
     "data": {
      "text/plain": [
       "TrainOutput(global_step=6, training_loss=17.425861358642578, metrics={'train_runtime': 83.1464, 'train_samples_per_second': 0.577, 'train_steps_per_second': 0.072, 'total_flos': 911805014605824.0, 'train_loss': 17.425861358642578, 'epoch': 3.0})"
      ]
     },
     "execution_count": 7,
     "metadata": {},
     "output_type": "execute_result"
    }
   ],
   "source": [
    "trainer = Trainer(\n",
    "    model=model,\n",
    "    args=training_args,\n",
    "    train_dataset=tokenized_dataset[\"train\"],\n",
    "    eval_dataset=tokenized_dataset[\"test\"],\n",
    "    tokenizer=tokenizer,\n",
    ")\n",
    "trainer.train()"
   ]
  },
  {
   "cell_type": "code",
   "execution_count": 10,
   "id": "35c42853-5c93-4d5b-b481-a752bfecb518",
   "metadata": {},
   "outputs": [
    {
     "name": "stdout",
     "output_type": "stream",
     "text": [
      "{'eval_loss': 14.567150115966797, 'eval_runtime': 9.5582, 'eval_samples_per_second': 1.674, 'eval_steps_per_second': 1.674, 'epoch': 3.0}\n"
     ]
    }
   ],
   "source": [
    "# Evaluate the model\n",
    "eval_results = trainer.evaluate()\n",
    "print(eval_results)\n",
    "# print(f\"Perplexity: {eval_results['perplexity']}\")\n",
    "\n",
    "# Save the model and tokenizer\n",
    "model.save_pretrained(\"./finetuned_deepseek_r1\")\n",
    "tokenizer.save_pretrained(\"./finetuned_deepseek_r1\")\n",
    "trainer.save_model(\"./finetuned_deepseek_r1\")"
   ]
  },
  {
   "cell_type": "markdown",
   "id": "7a47bbc3-44de-4066-8f0a-81b1c1b6b8e6",
   "metadata": {},
   "source": [
    "STOP HERE"
   ]
  },
  {
   "cell_type": "code",
   "execution_count": 7,
   "id": "8f671a42-457b-4fc4-b322-04b9f9854b3b",
   "metadata": {},
   "outputs": [
    {
     "data": {
      "application/vnd.jupyter.widget-view+json": {
       "model_id": "eb21384f73e341ee800a076d747fde8d",
       "version_major": 2,
       "version_minor": 0
      },
      "text/plain": [
       "Map:   0%|          | 0/91 [00:00<?, ? examples/s]"
      ]
     },
     "metadata": {},
     "output_type": "display_data"
    }
   ],
   "source": [
    "# Tokenize the dataset\n",
    "\n",
    "# Set pad_token to eos_token (common workaround for GPT-2 models)\n",
    "tokenizer.pad_token = tokenizer.eos_token\n",
    "\n",
    "# Define the tokenize function\n",
    "def tokenize_function(examples):\n",
    "    # Tokenize 'text' and 'response' fields\n",
    "    inputs = tokenizer(examples[\"prompt\"], padding=\"max_length\", truncation=True, max_length=128)\n",
    "    outputs = tokenizer(examples[\"completion\"], padding=\"max_length\", truncation=True, max_length=128)\n",
    "    inputs[\"labels\"] = outputs[\"input_ids\"]  # Set the response as labels for training\n",
    "    return inputs\n",
    "\n",
    "# Apply tokenization to the dataset\n",
    "tokenized_datasets = dataset.map(tokenize_function, batched=True)"
   ]
  },
  {
   "cell_type": "code",
   "execution_count": 8,
   "id": "fc3414f9-1840-4123-b0f6-b4d6b2f14b89",
   "metadata": {},
   "outputs": [],
   "source": [
    "# # Train test split if necessary\n",
    "# # Split the training data into training and validation sets (e.g., 80% train, 20% validation)\n",
    "# train_val_split = tokenized_datasets[\"train\"].train_test_split(test_size=0.2)\n",
    "\n",
    "# # Extract the train and eval datasets\n",
    "# train_dataset = train_val_split[\"train\"]\n",
    "# eval_dataset = train_val_split[\"test\"]"
   ]
  },
  {
   "cell_type": "code",
   "execution_count": 9,
   "id": "20ee6129-0c75-432a-8017-4e0be079e590",
   "metadata": {},
   "outputs": [],
   "source": [
    "# Set up training arguments\n",
    "\n",
    "os.environ[\"TOKENIZERS_PARALLELISM\"] = \"false\"\n",
    "training_args = TrainingArguments(\n",
    "    output_dir=save_dir,  # Directory to save the fine-tuned model\n",
    "    per_device_train_batch_size=4,   # Batch size per device\n",
    "    num_train_epochs=3,              # Number of training epochs\n",
    "    save_steps=10_000,               # Save checkpoint every 10,000 steps\n",
    "    save_total_limit=2,              # Keep only the last 2 checkpoints\n",
    "    logging_dir=\"./logs\",            # Directory for logs\n",
    "    logging_steps=500,               # Log every 500 steps\n",
    "    eval_strategy=\"steps\",     # Evaluate every `eval_steps`\n",
    "    eval_steps=500,                  # Evaluation interval\n",
    "    warmup_steps=500,                # Warmup steps for learning rate scheduler\n",
    "    weight_decay=0.01,               # Weight decay for regularization\n",
    "    fp16=True,                       # Enable mixed precision training (if GPU is available)\n",
    ")"
   ]
  },
  {
   "cell_type": "code",
   "execution_count": 11,
   "id": "5d9951e5-9ec9-4590-92d1-45b1432be78a",
   "metadata": {},
   "outputs": [],
   "source": [
    "# Initialize the Trainer\n",
    "trainer = Trainer(\n",
    "    model=model,\n",
    "    args=training_args,\n",
    "    train_dataset=tokenized_datasets['train'],\n",
    ")"
   ]
  },
  {
   "cell_type": "code",
   "execution_count": 12,
   "id": "f6dfdad1-cb59-444d-a7d7-783f74071b00",
   "metadata": {},
   "outputs": [
    {
     "data": {
      "text/html": [
       "\n",
       "    <div>\n",
       "      \n",
       "      <progress value='69' max='69' style='width:300px; height:20px; vertical-align: middle;'></progress>\n",
       "      [69/69 00:08, Epoch 3/3]\n",
       "    </div>\n",
       "    <table border=\"1\" class=\"dataframe\">\n",
       "  <thead>\n",
       " <tr style=\"text-align: left;\">\n",
       "      <th>Step</th>\n",
       "      <th>Training Loss</th>\n",
       "      <th>Validation Loss</th>\n",
       "    </tr>\n",
       "  </thead>\n",
       "  <tbody>\n",
       "  </tbody>\n",
       "</table><p>"
      ],
      "text/plain": [
       "<IPython.core.display.HTML object>"
      ]
     },
     "metadata": {},
     "output_type": "display_data"
    },
    {
     "data": {
      "text/plain": [
       "TrainOutput(global_step=69, training_loss=7.36752584706182, metrics={'train_runtime': 8.543, 'train_samples_per_second': 31.956, 'train_steps_per_second': 8.077, 'total_flos': 17833181184000.0, 'train_loss': 7.36752584706182, 'epoch': 3.0})"
      ]
     },
     "execution_count": 12,
     "metadata": {},
     "output_type": "execute_result"
    }
   ],
   "source": [
    "# Fine-tune the model\n",
    "trainer.train()"
   ]
  },
  {
   "cell_type": "code",
   "execution_count": 13,
   "id": "ddf782b5-58e3-43f8-9a1e-81132e95ddea",
   "metadata": {},
   "outputs": [
    {
     "name": "stdout",
     "output_type": "stream",
     "text": [
      "Fine-tuning complete. Model saved to ../../models/fine_tuned_model.\n"
     ]
    }
   ],
   "source": [
    "# Save the fine-tuned model\n",
    "trainer.save_model(save_dir)\n",
    "tokenizer.save_pretrained(save_dir)\n",
    "\n",
    "print(f\"Fine-tuning complete. Model saved to {save_dir}.\")"
   ]
  }
 ],
 "metadata": {
  "kernelspec": {
   "display_name": "Python 3 (ipykernel)",
   "language": "python",
   "name": "python3"
  },
  "language_info": {
   "codemirror_mode": {
    "name": "ipython",
    "version": 3
   },
   "file_extension": ".py",
   "mimetype": "text/x-python",
   "name": "python",
   "nbconvert_exporter": "python",
   "pygments_lexer": "ipython3",
   "version": "3.10.16"
  }
 },
 "nbformat": 4,
 "nbformat_minor": 5
}
