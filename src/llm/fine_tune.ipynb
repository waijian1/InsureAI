{
 "cells": [
  {
   "cell_type": "code",
   "execution_count": 1,
   "id": "32a85009-74e3-4a35-b7ed-737db17269a5",
   "metadata": {},
   "outputs": [],
   "source": [
    "from transformers import AutoModelForCausalLM, AutoTokenizer, Trainer, TrainingArguments\n",
    "from datasets import load_dataset\n",
    "import os\n",
    "\n",
    "# Define the path to save the fine-tuned model\n",
    "save_dir = os.path.join(\"..\", \"..\", \"models\", \"fine_tuned_model\")  # Points to InsureAI/models/fine_tuned_model"
   ]
  },
  {
   "cell_type": "code",
   "execution_count": 2,
   "id": "0f1dae57-da3b-47a2-a3b1-136cb82e6751",
   "metadata": {},
   "outputs": [
    {
     "name": "stderr",
     "output_type": "stream",
     "text": [
      "/home/waijianlim/miniconda3/envs/InsureAI/lib/python3.9/site-packages/transformers/tokenization_utils_base.py:1601: FutureWarning: `clean_up_tokenization_spaces` was not set. It will be set to `True` by default. This behavior will be depracted in transformers v4.45, and will be then set to `False` by default. For more details check this issue: https://github.com/huggingface/transformers/issues/31884\n",
      "  warnings.warn(\n"
     ]
    }
   ],
   "source": [
    "model_name = \"openai-community/gpt2\"\n",
    "tokenizer = AutoTokenizer.from_pretrained(model_name)\n",
    "model = AutoModelForCausalLM.from_pretrained(model_name)"
   ]
  },
  {
   "cell_type": "markdown",
   "id": "84d61d7b-db18-4817-b155-a99a03d33dff",
   "metadata": {},
   "source": [
    "Prepare Company Data Informations for fine-tuning"
   ]
  },
  {
   "cell_type": "code",
   "execution_count": 3,
   "id": "aabf4b2b-5c60-43a4-bf1f-bd373f0852d2",
   "metadata": {},
   "outputs": [
    {
     "name": "stdout",
     "output_type": "stream",
     "text": [
      "(1, 'Death A', 'Death', '{\"coverage\": \"term\", \"premium\": 100, \"SA\":10000}', 'InsureAI')\n",
      "(2, 'Death B', 'Death', '{\"coverage\": \"endowment\", \"premium\": 200, \"SA\":20000}', 'InsureAI')\n",
      "(3, 'Death C', 'Death', '{\"coverage\": \"full\", \"premium\": 300, \"SA\":30000}', 'InsureAI')\n",
      "(4, 'TPD A', 'TPD', '{\"coverage\": \"term\", \"premium\": 100, \"SA\":10000}', 'InsureAI')\n",
      "(5, 'TPD B', 'TPD', '{\"coverage\": \"endowment\", \"premium\": 200, \"SA\":20000}', 'InsureAI')\n",
      "(6, 'TPD C', 'TPD', '{\"coverage\": \"full\", \"premium\": 300, \"SA\":30000}', 'InsureAI')\n",
      "(7, 'Critical Illness A', 'Critical Illness', '{\"coverage\": \"term\", \"premium\": 100, \"SA\":10000}', 'InsureAI')\n",
      "(8, 'Critical Illness B', 'Critical Illness', '{\"coverage\": \"endowment\", \"premium\": 200, \"SA\":20000}', 'InsureAI')\n",
      "(9, 'Critical Illness C', 'Critical Illness', '{\"coverage\": \"full\", \"premium\": 300, \"SA\":30000}', 'InsureAI')\n",
      "(10, 'Accidental A', 'Accidental', '{\"coverage\": \"term\", \"premium\": 100, \"SA\":10000}', 'InsureAI')\n",
      "(11, 'Accidental B', 'Accidental', '{\"coverage\": \"endowment\", \"premium\": 200, \"SA\":20000}', 'InsureAI')\n",
      "(12, 'Accidental C', 'Accidental', '{\"coverage\": \"full\", \"premium\": 300, \"SA\":30000}', 'InsureAI')\n",
      "(13, 'Hospitalisation A', 'Hospitalisation', '{\"coverage\": \"term\", \"premium\": 100, \"SA\":10000}', 'InsureAI')\n",
      "(14, 'Hospitalisation B', 'Hospitalisation', '{\"coverage\": \"endowment\", \"premium\": 200, \"SA\":20000}', 'InsureAI')\n",
      "(15, 'Hospitalisation C', 'Hospitalisation', '{\"coverage\": \"full\", \"premium\": 300, \"SA\":30000}', 'InsureAI')\n",
      "(16, 'Death A', 'Death', '{\"coverage\": \"term\", \"premium\": 100, \"SA\":10000}', 'InsureAI')\n",
      "(17, 'Death B', 'Death', '{\"coverage\": \"endowment\", \"premium\": 200, \"SA\":20000}', 'InsureAI')\n",
      "(18, 'Death C', 'Death', '{\"coverage\": \"full\", \"premium\": 300, \"SA\":30000}', 'InsureAI')\n",
      "(19, 'TPD A', 'TPD', '{\"coverage\": \"term\", \"premium\": 100, \"SA\":10000}', 'InsureAI')\n",
      "(20, 'TPD B', 'TPD', '{\"coverage\": \"endowment\", \"premium\": 200, \"SA\":20000}', 'InsureAI')\n",
      "(21, 'TPD C', 'TPD', '{\"coverage\": \"full\", \"premium\": 300, \"SA\":30000}', 'InsureAI')\n",
      "(22, 'Critical Illness A', 'Critical Illness', '{\"coverage\": \"term\", \"premium\": 100, \"SA\":10000}', 'InsureAI')\n",
      "(23, 'Critical Illness B', 'Critical Illness', '{\"coverage\": \"endowment\", \"premium\": 200, \"SA\":20000}', 'InsureAI')\n",
      "(24, 'Critical Illness C', 'Critical Illness', '{\"coverage\": \"full\", \"premium\": 300, \"SA\":30000}', 'InsureAI')\n",
      "(25, 'Accidental A', 'Accidental', '{\"coverage\": \"term\", \"premium\": 100, \"SA\":10000}', 'InsureAI')\n",
      "(26, 'Accidental B', 'Accidental', '{\"coverage\": \"endowment\", \"premium\": 200, \"SA\":20000}', 'InsureAI')\n",
      "(27, 'Accidental C', 'Accidental', '{\"coverage\": \"full\", \"premium\": 300, \"SA\":30000}', 'InsureAI')\n",
      "(28, 'Hospitalisation A', 'Hospitalisation', '{\"coverage\": \"term\", \"premium\": 100, \"SA\":10000}', 'InsureAI')\n",
      "(29, 'Hospitalisation B', 'Hospitalisation', '{\"coverage\": \"endowment\", \"premium\": 200, \"SA\":20000}', 'InsureAI')\n",
      "(30, 'Hospitalisation C', 'Hospitalisation', '{\"coverage\": \"full\", \"premium\": 300, \"SA\":30000}', 'InsureAI')\n",
      "(31, 'Death A', 'Death', '{\"coverage\": \"term\", \"premium\": 100, \"SA\":10000}', 'InsureAI')\n",
      "(32, 'Death B', 'Death', '{\"coverage\": \"endowment\", \"premium\": 200, \"SA\":20000}', 'InsureAI')\n",
      "(33, 'Death C', 'Death', '{\"coverage\": \"full\", \"premium\": 300, \"SA\":30000}', 'InsureAI')\n",
      "(34, 'TPD A', 'TPD', '{\"coverage\": \"term\", \"premium\": 100, \"SA\":10000}', 'InsureAI')\n",
      "(35, 'TPD B', 'TPD', '{\"coverage\": \"endowment\", \"premium\": 200, \"SA\":20000}', 'InsureAI')\n",
      "(36, 'TPD C', 'TPD', '{\"coverage\": \"full\", \"premium\": 300, \"SA\":30000}', 'InsureAI')\n",
      "(37, 'Critical Illness A', 'Critical Illness', '{\"coverage\": \"term\", \"premium\": 100, \"SA\":10000}', 'InsureAI')\n",
      "(38, 'Critical Illness B', 'Critical Illness', '{\"coverage\": \"endowment\", \"premium\": 200, \"SA\":20000}', 'InsureAI')\n",
      "(39, 'Critical Illness C', 'Critical Illness', '{\"coverage\": \"full\", \"premium\": 300, \"SA\":30000}', 'InsureAI')\n",
      "(40, 'Accidental A', 'Accidental', '{\"coverage\": \"term\", \"premium\": 100, \"SA\":10000}', 'InsureAI')\n",
      "(41, 'Accidental B', 'Accidental', '{\"coverage\": \"endowment\", \"premium\": 200, \"SA\":20000}', 'InsureAI')\n",
      "(42, 'Accidental C', 'Accidental', '{\"coverage\": \"full\", \"premium\": 300, \"SA\":30000}', 'InsureAI')\n",
      "(43, 'Hospitalisation A', 'Hospitalisation', '{\"coverage\": \"term\", \"premium\": 100, \"SA\":10000}', 'InsureAI')\n",
      "(44, 'Hospitalisation B', 'Hospitalisation', '{\"coverage\": \"endowment\", \"premium\": 200, \"SA\":20000}', 'InsureAI')\n",
      "(45, 'Hospitalisation C', 'Hospitalisation', '{\"coverage\": \"full\", \"premium\": 300, \"SA\":30000}', 'InsureAI')\n",
      "(46, 'Death A', 'Death', '{\"coverage\": \"term\", \"premium\": 100, \"SA\":10000}', 'InsureAI')\n",
      "(47, 'Death B', 'Death', '{\"coverage\": \"endowment\", \"premium\": 200, \"SA\":20000}', 'InsureAI')\n",
      "(48, 'Death C', 'Death', '{\"coverage\": \"full\", \"premium\": 300, \"SA\":30000}', 'InsureAI')\n",
      "(49, 'TPD A', 'TPD', '{\"coverage\": \"term\", \"premium\": 100, \"SA\":10000}', 'InsureAI')\n",
      "(50, 'TPD B', 'TPD', '{\"coverage\": \"endowment\", \"premium\": 200, \"SA\":20000}', 'InsureAI')\n",
      "(51, 'TPD C', 'TPD', '{\"coverage\": \"full\", \"premium\": 300, \"SA\":30000}', 'InsureAI')\n",
      "(52, 'Critical Illness A', 'Critical Illness', '{\"coverage\": \"term\", \"premium\": 100, \"SA\":10000}', 'InsureAI')\n",
      "(53, 'Critical Illness B', 'Critical Illness', '{\"coverage\": \"endowment\", \"premium\": 200, \"SA\":20000}', 'InsureAI')\n",
      "(54, 'Critical Illness C', 'Critical Illness', '{\"coverage\": \"full\", \"premium\": 300, \"SA\":30000}', 'InsureAI')\n",
      "(55, 'Accidental A', 'Accidental', '{\"coverage\": \"term\", \"premium\": 100, \"SA\":10000}', 'InsureAI')\n",
      "(56, 'Accidental B', 'Accidental', '{\"coverage\": \"endowment\", \"premium\": 200, \"SA\":20000}', 'InsureAI')\n",
      "(57, 'Accidental C', 'Accidental', '{\"coverage\": \"full\", \"premium\": 300, \"SA\":30000}', 'InsureAI')\n",
      "(58, 'Hospitalisation A', 'Hospitalisation', '{\"coverage\": \"term\", \"premium\": 100, \"SA\":10000}', 'InsureAI')\n",
      "(59, 'Hospitalisation B', 'Hospitalisation', '{\"coverage\": \"endowment\", \"premium\": 200, \"SA\":20000}', 'InsureAI')\n",
      "(60, 'Hospitalisation C', 'Hospitalisation', '{\"coverage\": \"full\", \"premium\": 300, \"SA\":30000}', 'InsureAI')\n",
      "(61, 'Death A', 'Death', '{\"coverage\": \"term\", \"premium\": 100, \"SA\":10000}', 'InsureAI')\n",
      "(62, 'Death B', 'Death', '{\"coverage\": \"endowment\", \"premium\": 200, \"SA\":20000}', 'InsureAI')\n",
      "(63, 'Death C', 'Death', '{\"coverage\": \"full\", \"premium\": 300, \"SA\":30000}', 'InsureAI')\n",
      "(64, 'TPD A', 'TPD', '{\"coverage\": \"term\", \"premium\": 100, \"SA\":10000}', 'InsureAI')\n",
      "(65, 'TPD B', 'TPD', '{\"coverage\": \"endowment\", \"premium\": 200, \"SA\":20000}', 'InsureAI')\n",
      "(66, 'TPD C', 'TPD', '{\"coverage\": \"full\", \"premium\": 300, \"SA\":30000}', 'InsureAI')\n",
      "(67, 'Critical Illness A', 'Critical Illness', '{\"coverage\": \"term\", \"premium\": 100, \"SA\":10000}', 'InsureAI')\n",
      "(68, 'Critical Illness B', 'Critical Illness', '{\"coverage\": \"endowment\", \"premium\": 200, \"SA\":20000}', 'InsureAI')\n",
      "(69, 'Critical Illness C', 'Critical Illness', '{\"coverage\": \"full\", \"premium\": 300, \"SA\":30000}', 'InsureAI')\n",
      "(70, 'Accidental A', 'Accidental', '{\"coverage\": \"term\", \"premium\": 100, \"SA\":10000}', 'InsureAI')\n",
      "(71, 'Accidental B', 'Accidental', '{\"coverage\": \"endowment\", \"premium\": 200, \"SA\":20000}', 'InsureAI')\n",
      "(72, 'Accidental C', 'Accidental', '{\"coverage\": \"full\", \"premium\": 300, \"SA\":30000}', 'InsureAI')\n",
      "(73, 'Hospitalisation A', 'Hospitalisation', '{\"coverage\": \"term\", \"premium\": 100, \"SA\":10000}', 'InsureAI')\n",
      "(74, 'Hospitalisation B', 'Hospitalisation', '{\"coverage\": \"endowment\", \"premium\": 200, \"SA\":20000}', 'InsureAI')\n",
      "(75, 'Hospitalisation C', 'Hospitalisation', '{\"coverage\": \"full\", \"premium\": 300, \"SA\":30000}', 'InsureAI')\n",
      "(76, 'Death A', 'Death', '{\"coverage\": \"term\", \"premium\": 100, \"SA\":10000}', 'InsureAI')\n",
      "(77, 'Death B', 'Death', '{\"coverage\": \"endowment\", \"premium\": 200, \"SA\":20000}', 'InsureAI')\n",
      "(78, 'Death C', 'Death', '{\"coverage\": \"full\", \"premium\": 300, \"SA\":30000}', 'InsureAI')\n",
      "(79, 'TPD A', 'TPD', '{\"coverage\": \"term\", \"premium\": 100, \"SA\":10000}', 'InsureAI')\n",
      "(80, 'TPD B', 'TPD', '{\"coverage\": \"endowment\", \"premium\": 200, \"SA\":20000}', 'InsureAI')\n",
      "(81, 'TPD C', 'TPD', '{\"coverage\": \"full\", \"premium\": 300, \"SA\":30000}', 'InsureAI')\n",
      "(82, 'Critical Illness A', 'Critical Illness', '{\"coverage\": \"term\", \"premium\": 100, \"SA\":10000}', 'InsureAI')\n",
      "(83, 'Critical Illness B', 'Critical Illness', '{\"coverage\": \"endowment\", \"premium\": 200, \"SA\":20000}', 'InsureAI')\n",
      "(84, 'Critical Illness C', 'Critical Illness', '{\"coverage\": \"full\", \"premium\": 300, \"SA\":30000}', 'InsureAI')\n",
      "(85, 'Accidental A', 'Accidental', '{\"coverage\": \"term\", \"premium\": 100, \"SA\":10000}', 'InsureAI')\n",
      "(86, 'Accidental B', 'Accidental', '{\"coverage\": \"endowment\", \"premium\": 200, \"SA\":20000}', 'InsureAI')\n",
      "(87, 'Accidental C', 'Accidental', '{\"coverage\": \"full\", \"premium\": 300, \"SA\":30000}', 'InsureAI')\n",
      "(88, 'Hospitalisation A', 'Hospitalisation', '{\"coverage\": \"term\", \"premium\": 100, \"SA\":10000}', 'InsureAI')\n",
      "(89, 'Hospitalisation B', 'Hospitalisation', '{\"coverage\": \"endowment\", \"premium\": 200, \"SA\":20000}', 'InsureAI')\n",
      "(90, 'Hospitalisation C', 'Hospitalisation', '{\"coverage\": \"full\", \"premium\": 300, \"SA\":30000}', 'InsureAI')\n",
      "setup.py executed successfully.\n"
     ]
    }
   ],
   "source": [
    "# Initialize insurance.db data\n",
    "import subprocess\n",
    "\n",
    "# Define the path to setup.py relative to the notebook\n",
    "setup_script_path = os.path.abspath(\"../sql/setup.py\")\n",
    "\n",
    "# Run the setup.py script\n",
    "try:\n",
    "    subprocess.run([\"python\", setup_script_path], check=True)\n",
    "    print(\"setup.py executed successfully.\")\n",
    "except subprocess.CalledProcessError as e:\n",
    "    print(f\"An error occurred while executing setup.py: {e}\")\n"
   ]
  },
  {
   "cell_type": "code",
   "execution_count": 4,
   "id": "d1857cfa-ece4-4d60-a125-0d249f2a22b7",
   "metadata": {},
   "outputs": [
    {
     "name": "stdout",
     "output_type": "stream",
     "text": [
      "Company data generated and saved to company_data.json.\n"
     ]
    }
   ],
   "source": [
    "import sqlite3\n",
    "import json\n",
    "\n",
    "# Connect to the SQLite database\n",
    "conn = sqlite3.connect('../../insurance.db')\n",
    "cursor = conn.cursor()\n",
    "\n",
    "# Fetch all products from the database\n",
    "cursor.execute(\"SELECT * FROM products\")\n",
    "products = cursor.fetchall()\n",
    "\n",
    "# Prepare the company data\n",
    "company_data = {\n",
    "    \"company_name\": \"InsureAI\",\n",
    "    \"launch_date\": \"1995-05-15\",\n",
    "    \"description\": \"InsureAI is a leading provider of life, health, and general insurance products in Singapore. We are committed to helping our customers achieve financial security and peace of mind.\",\n",
    "    \"company_type\": \"Life and General Insurance\",\n",
    "    \"headquarters\": \"Singapore\",\n",
    "    \"website\": \"https://www.insureai.sg\",\n",
    "    \"contact_email\": \"info@insureai.sg\",\n",
    "    \"contact_phone\": \"+65 8888 1314\",\n",
    "    \"products\": []\n",
    "}\n",
    "\n",
    "# Add products to the company data\n",
    "for product in products:\n",
    "    product_id, name, types, features, company = product\n",
    "    features_dict = json.loads(features)  # Convert features from JSON string to dict\n",
    "\n",
    "    product_details = {\n",
    "        \"id\": product_id,\n",
    "        \"name\": name,\n",
    "        \"types\": types,\n",
    "        \"features\": features_dict,\n",
    "        \"description\": f\"{name} is a type of {types} insurance. It is a/an {features_dict.get('coverage')} insurance product offered by {company}. Key features include: {', '.join([f'{k}: {v}' for k, v in features_dict.items()])}.\"\n",
    "    }\n",
    "    company_data[\"products\"].append(product_details)\n",
    "\n",
    "# Save company data to a JSON file (optional)\n",
    "with open(\"company_data.json\", \"w\") as f:\n",
    "    json.dump(company_data, f, indent=4)\n",
    "\n",
    "print(\"Company data generated and saved to company_data.json.\")"
   ]
  },
  {
   "cell_type": "code",
   "execution_count": 5,
   "id": "27432e93-9472-474b-a10f-c3323b236264",
   "metadata": {},
   "outputs": [
    {
     "name": "stdout",
     "output_type": "stream",
     "text": [
      "Fine-tuning data prepared and saved to fine_tuning_data.jsonl.\n"
     ]
    }
   ],
   "source": [
    "import json\n",
    "\n",
    "# Load company data\n",
    "with open(\"company_data.json\", \"r\") as f:\n",
    "    company_data = json.load(f)\n",
    "\n",
    "# Prepare fine-tuning data\n",
    "fine_tuning_data = []\n",
    "\n",
    "# Add company information as a separate prompt-completion pair\n",
    "company_prompt = f\"Tell me about the company {company_data['company_name']}.\"\n",
    "company_completion = (\n",
    "    f\"{company_data['company_name']} is a {company_data['company_type']} company headquartered in {company_data['headquarters']}. \"\n",
    "    f\"It was launched on {company_data['launch_date']}. {company_data['description']} \"\n",
    "    f\"You can contact them at email: {company_data['contact_email']} or phone: {company_data['contact_phone']}. \"\n",
    "    f\"Visit their website at {company_data['website']}.\"\n",
    ")\n",
    "fine_tuning_data.append({\"prompt\": company_prompt, \"completion\": company_completion})\n",
    "\n",
    "# Add product information\n",
    "for product in company_data[\"products\"]:\n",
    "    product_prompt = f\"Describe the insurance product {product['name']} offered by {company_data['company_name']}.\"\n",
    "    product_completion = product[\"description\"]\n",
    "    fine_tuning_data.append({\"prompt\": product_prompt, \"completion\": product_completion})\n",
    "\n",
    "# Save fine-tuning data to a JSONL file\n",
    "with open(\"fine_tuning_data.jsonl\", \"w\") as f:\n",
    "    for item in fine_tuning_data:\n",
    "        f.write(json.dumps(item) + \"\\n\")\n",
    "\n",
    "print(\"Fine-tuning data prepared and saved to fine_tuning_data.jsonl.\")"
   ]
  },
  {
   "cell_type": "code",
   "execution_count": 6,
   "id": "f2c85226-5c0c-4de5-a7da-8b4b1bc94d1e",
   "metadata": {},
   "outputs": [
    {
     "data": {
      "application/vnd.jupyter.widget-view+json": {
       "model_id": "a3b029f64839494fb30c0440ed0c78e1",
       "version_major": 2,
       "version_minor": 0
      },
      "text/plain": [
       "Generating train split: 0 examples [00:00, ? examples/s]"
      ]
     },
     "metadata": {},
     "output_type": "display_data"
    }
   ],
   "source": [
    "# Load the fine-tuning data\n",
    "dataset = load_dataset(\"json\", data_files=\"fine_tuning_data.jsonl\")"
   ]
  },
  {
   "cell_type": "code",
   "execution_count": 7,
   "id": "8f671a42-457b-4fc4-b322-04b9f9854b3b",
   "metadata": {},
   "outputs": [
    {
     "data": {
      "application/vnd.jupyter.widget-view+json": {
       "model_id": "eb21384f73e341ee800a076d747fde8d",
       "version_major": 2,
       "version_minor": 0
      },
      "text/plain": [
       "Map:   0%|          | 0/91 [00:00<?, ? examples/s]"
      ]
     },
     "metadata": {},
     "output_type": "display_data"
    }
   ],
   "source": [
    "# Tokenize the dataset\n",
    "\n",
    "# Set pad_token to eos_token (common workaround for GPT-2 models)\n",
    "tokenizer.pad_token = tokenizer.eos_token\n",
    "\n",
    "# Define the tokenize function\n",
    "def tokenize_function(examples):\n",
    "    # Tokenize 'text' and 'response' fields\n",
    "    inputs = tokenizer(examples[\"prompt\"], padding=\"max_length\", truncation=True, max_length=128)\n",
    "    outputs = tokenizer(examples[\"completion\"], padding=\"max_length\", truncation=True, max_length=128)\n",
    "    inputs[\"labels\"] = outputs[\"input_ids\"]  # Set the response as labels for training\n",
    "    return inputs\n",
    "\n",
    "# Apply tokenization to the dataset\n",
    "tokenized_datasets = dataset.map(tokenize_function, batched=True)"
   ]
  },
  {
   "cell_type": "code",
   "execution_count": 8,
   "id": "fc3414f9-1840-4123-b0f6-b4d6b2f14b89",
   "metadata": {},
   "outputs": [],
   "source": [
    "# # Train test split if necessary\n",
    "# # Split the training data into training and validation sets (e.g., 80% train, 20% validation)\n",
    "# train_val_split = tokenized_datasets[\"train\"].train_test_split(test_size=0.2)\n",
    "\n",
    "# # Extract the train and eval datasets\n",
    "# train_dataset = train_val_split[\"train\"]\n",
    "# eval_dataset = train_val_split[\"test\"]"
   ]
  },
  {
   "cell_type": "code",
   "execution_count": 9,
   "id": "20ee6129-0c75-432a-8017-4e0be079e590",
   "metadata": {},
   "outputs": [],
   "source": [
    "# Set up training arguments\n",
    "\n",
    "os.environ[\"TOKENIZERS_PARALLELISM\"] = \"false\"\n",
    "training_args = TrainingArguments(\n",
    "    output_dir=save_dir,  # Directory to save the fine-tuned model\n",
    "    per_device_train_batch_size=4,   # Batch size per device\n",
    "    num_train_epochs=3,              # Number of training epochs\n",
    "    save_steps=10_000,               # Save checkpoint every 10,000 steps\n",
    "    save_total_limit=2,              # Keep only the last 2 checkpoints\n",
    "    logging_dir=\"./logs\",            # Directory for logs\n",
    "    logging_steps=500,               # Log every 500 steps\n",
    "    eval_strategy=\"steps\",     # Evaluate every `eval_steps`\n",
    "    eval_steps=500,                  # Evaluation interval\n",
    "    warmup_steps=500,                # Warmup steps for learning rate scheduler\n",
    "    weight_decay=0.01,               # Weight decay for regularization\n",
    "    fp16=True,                       # Enable mixed precision training (if GPU is available)\n",
    ")"
   ]
  },
  {
   "cell_type": "code",
   "execution_count": 11,
   "id": "5d9951e5-9ec9-4590-92d1-45b1432be78a",
   "metadata": {},
   "outputs": [],
   "source": [
    "# Initialize the Trainer\n",
    "trainer = Trainer(\n",
    "    model=model,\n",
    "    args=training_args,\n",
    "    train_dataset=tokenized_datasets['train'],\n",
    ")"
   ]
  },
  {
   "cell_type": "code",
   "execution_count": 12,
   "id": "f6dfdad1-cb59-444d-a7d7-783f74071b00",
   "metadata": {},
   "outputs": [
    {
     "data": {
      "text/html": [
       "\n",
       "    <div>\n",
       "      \n",
       "      <progress value='69' max='69' style='width:300px; height:20px; vertical-align: middle;'></progress>\n",
       "      [69/69 00:08, Epoch 3/3]\n",
       "    </div>\n",
       "    <table border=\"1\" class=\"dataframe\">\n",
       "  <thead>\n",
       " <tr style=\"text-align: left;\">\n",
       "      <th>Step</th>\n",
       "      <th>Training Loss</th>\n",
       "      <th>Validation Loss</th>\n",
       "    </tr>\n",
       "  </thead>\n",
       "  <tbody>\n",
       "  </tbody>\n",
       "</table><p>"
      ],
      "text/plain": [
       "<IPython.core.display.HTML object>"
      ]
     },
     "metadata": {},
     "output_type": "display_data"
    },
    {
     "data": {
      "text/plain": [
       "TrainOutput(global_step=69, training_loss=7.36752584706182, metrics={'train_runtime': 8.543, 'train_samples_per_second': 31.956, 'train_steps_per_second': 8.077, 'total_flos': 17833181184000.0, 'train_loss': 7.36752584706182, 'epoch': 3.0})"
      ]
     },
     "execution_count": 12,
     "metadata": {},
     "output_type": "execute_result"
    }
   ],
   "source": [
    "# Fine-tune the model\n",
    "trainer.train()"
   ]
  },
  {
   "cell_type": "code",
   "execution_count": 13,
   "id": "ddf782b5-58e3-43f8-9a1e-81132e95ddea",
   "metadata": {},
   "outputs": [
    {
     "name": "stdout",
     "output_type": "stream",
     "text": [
      "Fine-tuning complete. Model saved to ../../models/fine_tuned_model.\n"
     ]
    }
   ],
   "source": [
    "# Save the fine-tuned model\n",
    "trainer.save_model(save_dir)\n",
    "tokenizer.save_pretrained(save_dir)\n",
    "\n",
    "print(f\"Fine-tuning complete. Model saved to {save_dir}.\")"
   ]
  }
 ],
 "metadata": {
  "kernelspec": {
   "display_name": "Python 3 (ipykernel)",
   "language": "python",
   "name": "python3"
  },
  "language_info": {
   "codemirror_mode": {
    "name": "ipython",
    "version": 3
   },
   "file_extension": ".py",
   "mimetype": "text/x-python",
   "name": "python",
   "nbconvert_exporter": "python",
   "pygments_lexer": "ipython3",
   "version": "3.10.16"
  }
 },
 "nbformat": 4,
 "nbformat_minor": 5
}
